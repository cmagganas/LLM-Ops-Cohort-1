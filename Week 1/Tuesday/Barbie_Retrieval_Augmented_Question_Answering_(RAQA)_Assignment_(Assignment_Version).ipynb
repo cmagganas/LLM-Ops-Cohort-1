{
  "nbformat": 4,
  "nbformat_minor": 0,
  "metadata": {
    "colab": {
      "provenance": []
    },
    "kernelspec": {
      "name": "python3",
      "display_name": "Python 3"
    },
    "language_info": {
      "name": "python"
    }
  },
  "cells": [
    {
      "cell_type": "markdown",
      "source": [
        "# Questioning Barbie Reviews with RAQA (Retrieval Augmented Question Answering)\n",
        "\n",
        "In the following notebook, you are tasked with creating a system that answers questions based on information found in reviews of the 2023 Barbie movie.\n",
        "\n",
        "## Build 🏗️\n",
        "\n",
        "There are 3 main tasks in this notebook:\n",
        "\n",
        "1. Obtain and parse reviews from a review website\n",
        "2. Create a Vectorstore from the reviews\n",
        "3. Create a `RetrievalQA` using the VectorStore\n",
        "\n",
        "## Ship 🚢\n",
        "\n",
        "Create a Hugging Face Space that hosts your application.\n",
        "\n",
        "## Share 🚀\n",
        "\n",
        "Make a social media post about your final application."
      ],
      "metadata": {
        "id": "PLi09z_3qW8O"
      }
    },
    {
      "cell_type": "markdown",
      "source": [
        ">### Why RAQA and not RAG?\n",
        ">If we look at the original [paper](https://arxiv.org/abs/2005.11401), we find that RAG is a fairly specific and well defined term that isn't exactly the same as \"retrieve context, feed context to model in the prompt\".\n",
        ">For that reason, we're making the decision to delineate between \"actual\" RAG, and Retrieval Augmented Question Answering - which is not a well defined phrase."
      ],
      "metadata": {
        "id": "_BBraMxjrwOx"
      }
    },
    {
      "cell_type": "markdown",
      "source": [
        "### Pre-task Work\n",
        "\n",
        "All we really need to do to get started is to get our prerequisites!\n",
        "\n",
        "We'll be leveraging `langchain` and `openai` today.\n",
        "\n",
        "Check out the docs:\n",
        "- [LangChain](https://docs.langchain.com/docs/)\n",
        "- [OpenAI](https://github.com/openai/openai-python)"
      ],
      "metadata": {
        "id": "zcL8585DsZML"
      }
    },
    {
      "cell_type": "code",
      "execution_count": 1,
      "metadata": {
        "id": "vQa6rjDLqPCI",
        "outputId": "5b9d83d9-e5c4-4728-d024-e812bfe2c2b3",
        "colab": {
          "base_uri": "https://localhost:8080/"
        }
      },
      "outputs": [
        {
          "output_type": "stream",
          "name": "stdout",
          "text": [
            "\u001b[2K     \u001b[90m━━━━━━━━━━━━━━━━━━━━━━━━━━━━━━━━━━━━━━━━\u001b[0m \u001b[32m73.6/73.6 kB\u001b[0m \u001b[31m2.2 MB/s\u001b[0m eta \u001b[36m0:00:00\u001b[0m\n",
            "\u001b[2K     \u001b[90m━━━━━━━━━━━━━━━━━━━━━━━━━━━━━━━━━━━━━━━━\u001b[0m \u001b[32m1.5/1.5 MB\u001b[0m \u001b[31m28.2 MB/s\u001b[0m eta \u001b[36m0:00:00\u001b[0m\n",
            "\u001b[2K     \u001b[90m━━━━━━━━━━━━━━━━━━━━━━━━━━━━━━━━━━━━━━━━\u001b[0m \u001b[32m90.0/90.0 kB\u001b[0m \u001b[31m9.3 MB/s\u001b[0m eta \u001b[36m0:00:00\u001b[0m\n",
            "\u001b[2K     \u001b[90m━━━━━━━━━━━━━━━━━━━━━━━━━━━━━━━━━━━━━━━━\u001b[0m \u001b[32m3.1/3.1 MB\u001b[0m \u001b[31m79.8 MB/s\u001b[0m eta \u001b[36m0:00:00\u001b[0m\n",
            "\u001b[2K     \u001b[90m━━━━━━━━━━━━━━━━━━━━━━━━━━━━━━━━━━━━━━━━\u001b[0m \u001b[32m49.4/49.4 kB\u001b[0m \u001b[31m2.2 MB/s\u001b[0m eta \u001b[36m0:00:00\u001b[0m\n",
            "\u001b[?25h"
          ]
        }
      ],
      "source": [
        "!pip install -q -U openai langchain"
      ]
    },
    {
      "cell_type": "code",
      "source": [
        "import os\n",
        "import getpass\n",
        "\n",
        "os.environ[\"OPENAI_API_KEY\"] = getpass.getpass(\"Open AI API Key:\")"
      ],
      "metadata": {
        "colab": {
          "base_uri": "https://localhost:8080/"
        },
        "id": "1wF8_ODX5h-P",
        "outputId": "d302431f-6c17-41c4-d228-02a35ec2406d"
      },
      "execution_count": 2,
      "outputs": [
        {
          "name": "stdout",
          "output_type": "stream",
          "text": [
            "Open AI API Key:··········\n"
          ]
        }
      ]
    },
    {
      "cell_type": "markdown",
      "source": [
        "### Task 1: Data Preparation\n",
        "\n",
        "In this task we'll be collecting, and then parsing, our data."
      ],
      "metadata": {
        "id": "FLrL342RtWxf"
      }
    },
    {
      "cell_type": "markdown",
      "source": [
        "#### Scraping IMDB Reviews of Barbie\n",
        "\n",
        "We'll use some Selenium based trickery to get the reviews we need to make our application.\n",
        "\n",
        "Check out the docs here:\n",
        "- [Selenium](https://www.selenium.dev/documentation/)"
      ],
      "metadata": {
        "id": "zh8QTtMhzY_g"
      }
    },
    {
      "cell_type": "code",
      "source": [
        "!pip install -q -U requests"
      ],
      "metadata": {
        "id": "PsGPV2zHuCj2"
      },
      "execution_count": 3,
      "outputs": []
    },
    {
      "cell_type": "code",
      "source": [
        "!pip install -q -U scrapy selenium"
      ],
      "metadata": {
        "colab": {
          "base_uri": "https://localhost:8080/"
        },
        "id": "uCNCZdzrw81B",
        "outputId": "021a2b79-403c-42b5-f33b-c2fb4e326d5f"
      },
      "execution_count": 4,
      "outputs": [
        {
          "output_type": "stream",
          "name": "stdout",
          "text": [
            "\u001b[2K     \u001b[90m━━━━━━━━━━━━━━━━━━━━━━━━━━━━━━━━━━━━━━━\u001b[0m \u001b[32m281.4/281.4 kB\u001b[0m \u001b[31m6.0 MB/s\u001b[0m eta \u001b[36m0:00:00\u001b[0m\n",
            "\u001b[2K     \u001b[90m━━━━━━━━━━━━━━━━━━━━━━━━━━━━━━━━━━━━━━━━\u001b[0m \u001b[32m7.2/7.2 MB\u001b[0m \u001b[31m84.0 MB/s\u001b[0m eta \u001b[36m0:00:00\u001b[0m\n",
            "\u001b[2K     \u001b[90m━━━━━━━━━━━━━━━━━━━━━━━━━━━━━━━━━━━━━━━━\u001b[0m \u001b[32m3.1/3.1 MB\u001b[0m \u001b[31m85.0 MB/s\u001b[0m eta \u001b[36m0:00:00\u001b[0m\n",
            "\u001b[2K     \u001b[90m━━━━━━━━━━━━━━━━━━━━━━━━━━━━━━━━━━━━━━\u001b[0m \u001b[32m247.0/247.0 kB\u001b[0m \u001b[31m25.1 MB/s\u001b[0m eta \u001b[36m0:00:00\u001b[0m\n",
            "\u001b[2K     \u001b[90m━━━━━━━━━━━━━━━━━━━━━━━━━━━━━━━━━━━━━━━━\u001b[0m \u001b[32m93.3/93.3 kB\u001b[0m \u001b[31m11.8 MB/s\u001b[0m eta \u001b[36m0:00:00\u001b[0m\n",
            "\u001b[2K     \u001b[90m━━━━━━━━━━━━━━━━━━━━━━━━━━━━━━━━━━━━━━\u001b[0m \u001b[32m400.2/400.2 kB\u001b[0m \u001b[31m35.9 MB/s\u001b[0m eta \u001b[36m0:00:00\u001b[0m\n",
            "\u001b[2K     \u001b[90m━━━━━━━━━━━━━━━━━━━━━━━━━━━━━━━━━━━━━━━━\u001b[0m \u001b[32m74.6/74.6 kB\u001b[0m \u001b[31m7.7 MB/s\u001b[0m eta \u001b[36m0:00:00\u001b[0m\n",
            "\u001b[2K     \u001b[90m━━━━━━━━━━━━━━━━━━━━━━━━━━━━━━━━━━━━━━━━\u001b[0m \u001b[32m58.3/58.3 kB\u001b[0m \u001b[31m4.0 MB/s\u001b[0m eta \u001b[36m0:00:00\u001b[0m\n",
            "\u001b[?25h"
          ]
        }
      ]
    },
    {
      "cell_type": "code",
      "source": [
        "!apt install chromium-chromedriver"
      ],
      "metadata": {
        "id": "evZzjyX6xTbZ"
      },
      "execution_count": null,
      "outputs": []
    },
    {
      "cell_type": "code",
      "source": [
        "import numpy as np\n",
        "import pandas as pd\n",
        "from scrapy.selector import Selector\n",
        "from selenium import webdriver\n",
        "from selenium.webdriver.common.by import By\n",
        "from selenium.webdriver.common.keys import Keys\n",
        "import time\n",
        "from tqdm import tqdm\n",
        "import warnings\n",
        "warnings.filterwarnings(\"ignore\")"
      ],
      "metadata": {
        "id": "Niq6DKMOwPIn"
      },
      "execution_count": 6,
      "outputs": []
    },
    {
      "cell_type": "code",
      "source": [
        "chrome_options = webdriver.ChromeOptions()\n",
        "chrome_options.add_argument('--headless')\n",
        "chrome_options.add_argument('--no-sandbox')\n",
        "chrome_options.add_argument('--disable-dev-shm-usage')\n",
        "driver = webdriver.Chrome(options=chrome_options)"
      ],
      "metadata": {
        "id": "k9AA_f-DxGyv"
      },
      "execution_count": 7,
      "outputs": []
    },
    {
      "cell_type": "code",
      "source": [
        "url = \"https://www.imdb.com/title/tt1517268/reviews/?ref_=tt_ov_rt\"\n",
        "driver.get(url)"
      ],
      "metadata": {
        "id": "IsjYL7K_y1ip"
      },
      "execution_count": 8,
      "outputs": []
    },
    {
      "cell_type": "code",
      "source": [
        "sel = Selector(text = driver.page_source)\n",
        "review_counts = sel.css('.lister .header span::text').extract_first().replace(',','').split(' ')[0]\n",
        "more_review_pages = int(int(review_counts)/25)"
      ],
      "metadata": {
        "id": "XPGysdwuy190"
      },
      "execution_count": 9,
      "outputs": []
    },
    {
      "cell_type": "code",
      "source": [
        "for i in tqdm(range(more_review_pages)):\n",
        "    try:\n",
        "        css_selector = 'load-more-trigger'\n",
        "        driver.find_element(By.ID, css_selector).click()\n",
        "    except:\n",
        "        pass"
      ],
      "metadata": {
        "colab": {
          "base_uri": "https://localhost:8080/"
        },
        "id": "eGSJ0vuDy4D2",
        "outputId": "87be9f8b-81c9-414f-fb63-b902d092885f"
      },
      "execution_count": 10,
      "outputs": [
        {
          "output_type": "stream",
          "name": "stderr",
          "text": [
            "100%|██████████| 44/44 [00:01<00:00, 38.09it/s]\n"
          ]
        }
      ]
    },
    {
      "cell_type": "code",
      "source": [
        "rating_list = []\n",
        "review_date_list = []\n",
        "review_title_list = []\n",
        "author_list = []\n",
        "review_list = []\n",
        "review_url_list = []\n",
        "error_url_list = []\n",
        "error_msg_list = []\n",
        "reviews = driver.find_elements(By.CSS_SELECTOR, 'div.review-container')\n",
        "\n",
        "for d in tqdm(reviews):\n",
        "    try:\n",
        "        sel2 = Selector(text = d.get_attribute('innerHTML'))\n",
        "        try:\n",
        "            rating = sel2.css('.rating-other-user-rating span::text').extract_first()\n",
        "        except:\n",
        "            rating = np.NaN\n",
        "        try:\n",
        "            review = sel2.css('.text.show-more__control::text').extract_first()\n",
        "        except:\n",
        "            review = np.NaN\n",
        "        try:\n",
        "            review_date = sel2.css('.review-date::text').extract_first()\n",
        "        except:\n",
        "            review_date = np.NaN\n",
        "        try:\n",
        "            author = sel2.css('.display-name-link a::text').extract_first()\n",
        "        except:\n",
        "            author = np.NaN\n",
        "        try:\n",
        "            review_title = sel2.css('a.title::text').extract_first()\n",
        "        except:\n",
        "            review_title = np.NaN\n",
        "        try:\n",
        "            review_url = sel2.css('a.title::attr(href)').extract_first()\n",
        "        except:\n",
        "            review_url = np.NaN\n",
        "        rating_list.append(rating)\n",
        "        review_date_list.append(review_date)\n",
        "        review_title_list.append(review_title)\n",
        "        author_list.append(author)\n",
        "        review_list.append(review)\n",
        "        review_url_list.append(review_url)\n",
        "    except Exception as e:\n",
        "        error_url_list.append(url)\n",
        "        error_msg_list.append(e)\n",
        "review_df = pd.DataFrame({\n",
        "    'Review_Date':review_date_list,\n",
        "    'Author':author_list,\n",
        "    'Rating':rating_list,\n",
        "    'Review_Title':review_title_list,\n",
        "    'Review':review_list,\n",
        "    'Review_Url':review_url\n",
        "    })"
      ],
      "metadata": {
        "colab": {
          "base_uri": "https://localhost:8080/"
        },
        "id": "c46cAciBxr2C",
        "outputId": "3414dc0f-a912-417d-8279-5d7e018cb7a2"
      },
      "execution_count": 11,
      "outputs": [
        {
          "output_type": "stream",
          "name": "stderr",
          "text": [
            "100%|██████████| 75/75 [00:00<00:00, 97.05it/s] \n"
          ]
        }
      ]
    },
    {
      "cell_type": "code",
      "source": [
        "review_df"
      ],
      "metadata": {
        "id": "W9A0C1tbyfuh",
        "outputId": "205eb5aa-ac42-43cb-a240-9bcaec730a68",
        "colab": {
          "base_uri": "https://localhost:8080/",
          "height": 424
        }
      },
      "execution_count": 12,
      "outputs": [
        {
          "output_type": "execute_result",
          "data": {
            "text/plain": [
              "      Review_Date          Author Rating  \\\n",
              "0    21 July 2023    LoveofLegacy      6   \n",
              "1    22 July 2023          imseeg      7   \n",
              "2    22 July 2023        Natcat87      6   \n",
              "3    31 July 2023       ramair350     10   \n",
              "4    24 July 2023  heatherhilgers      9   \n",
              "..            ...             ...    ...   \n",
              "70   28 July 2023      klastaitas      8   \n",
              "71   20 July 2023       FeastMode      7   \n",
              "72  7 August 2023      misscattik   None   \n",
              "73   23 July 2023        acdc_mp3      9   \n",
              "74   20 July 2023   moriumemoltre      6   \n",
              "\n",
              "                                         Review_Title  \\\n",
              "0                    Beautiful film, but so preachy\\n   \n",
              "1     3 reasons FOR seeing it and 1 reason AGAINST.\\n   \n",
              "2                                  Too heavy handed\\n   \n",
              "3    As a guy I felt some discomfort, and that's o...   \n",
              "4                               A Technicolor Dream\\n   \n",
              "..                                                ...   \n",
              "70                                  We're All Dolls\\n   \n",
              "71                       I'll beach you off so hard\\n   \n",
              "72                        No questions just answers\\n   \n",
              "73                                A really fun time\\n   \n",
              "74                 Great acting but why this movie?\\n   \n",
              "\n",
              "                                               Review  \\\n",
              "0   Margot does the best with what she's given, bu...   \n",
              "1                      The first reason to go see it:   \n",
              "2   As a woman that grew up with Barbie, I was ver...   \n",
              "3   As much as it pains me to give a movie called ...   \n",
              "4   Wow, this movie was a love letter to cinema. F...   \n",
              "..                                                ...   \n",
              "70  Without consumerism, without belief, without p...   \n",
              "71  I had no idea what to expect going into Barbie...   \n",
              "72  The title of the review practically sums it al...   \n",
              "73  Weeks ago I heard that there was going to be a...   \n",
              "74  I was really surprised about how much i liked ...   \n",
              "\n",
              "                        Review_Url  \n",
              "0   /review/rw9201978/?ref_=tt_urv  \n",
              "1   /review/rw9201978/?ref_=tt_urv  \n",
              "2   /review/rw9201978/?ref_=tt_urv  \n",
              "3   /review/rw9201978/?ref_=tt_urv  \n",
              "4   /review/rw9201978/?ref_=tt_urv  \n",
              "..                             ...  \n",
              "70  /review/rw9201978/?ref_=tt_urv  \n",
              "71  /review/rw9201978/?ref_=tt_urv  \n",
              "72  /review/rw9201978/?ref_=tt_urv  \n",
              "73  /review/rw9201978/?ref_=tt_urv  \n",
              "74  /review/rw9201978/?ref_=tt_urv  \n",
              "\n",
              "[75 rows x 6 columns]"
            ],
            "text/html": [
              "\n",
              "\n",
              "  <div id=\"df-bb169aaf-90b1-466f-9438-5331da55549e\">\n",
              "    <div class=\"colab-df-container\">\n",
              "      <div>\n",
              "<style scoped>\n",
              "    .dataframe tbody tr th:only-of-type {\n",
              "        vertical-align: middle;\n",
              "    }\n",
              "\n",
              "    .dataframe tbody tr th {\n",
              "        vertical-align: top;\n",
              "    }\n",
              "\n",
              "    .dataframe thead th {\n",
              "        text-align: right;\n",
              "    }\n",
              "</style>\n",
              "<table border=\"1\" class=\"dataframe\">\n",
              "  <thead>\n",
              "    <tr style=\"text-align: right;\">\n",
              "      <th></th>\n",
              "      <th>Review_Date</th>\n",
              "      <th>Author</th>\n",
              "      <th>Rating</th>\n",
              "      <th>Review_Title</th>\n",
              "      <th>Review</th>\n",
              "      <th>Review_Url</th>\n",
              "    </tr>\n",
              "  </thead>\n",
              "  <tbody>\n",
              "    <tr>\n",
              "      <th>0</th>\n",
              "      <td>21 July 2023</td>\n",
              "      <td>LoveofLegacy</td>\n",
              "      <td>6</td>\n",
              "      <td>Beautiful film, but so preachy\\n</td>\n",
              "      <td>Margot does the best with what she's given, bu...</td>\n",
              "      <td>/review/rw9201978/?ref_=tt_urv</td>\n",
              "    </tr>\n",
              "    <tr>\n",
              "      <th>1</th>\n",
              "      <td>22 July 2023</td>\n",
              "      <td>imseeg</td>\n",
              "      <td>7</td>\n",
              "      <td>3 reasons FOR seeing it and 1 reason AGAINST.\\n</td>\n",
              "      <td>The first reason to go see it:</td>\n",
              "      <td>/review/rw9201978/?ref_=tt_urv</td>\n",
              "    </tr>\n",
              "    <tr>\n",
              "      <th>2</th>\n",
              "      <td>22 July 2023</td>\n",
              "      <td>Natcat87</td>\n",
              "      <td>6</td>\n",
              "      <td>Too heavy handed\\n</td>\n",
              "      <td>As a woman that grew up with Barbie, I was ver...</td>\n",
              "      <td>/review/rw9201978/?ref_=tt_urv</td>\n",
              "    </tr>\n",
              "    <tr>\n",
              "      <th>3</th>\n",
              "      <td>31 July 2023</td>\n",
              "      <td>ramair350</td>\n",
              "      <td>10</td>\n",
              "      <td>As a guy I felt some discomfort, and that's o...</td>\n",
              "      <td>As much as it pains me to give a movie called ...</td>\n",
              "      <td>/review/rw9201978/?ref_=tt_urv</td>\n",
              "    </tr>\n",
              "    <tr>\n",
              "      <th>4</th>\n",
              "      <td>24 July 2023</td>\n",
              "      <td>heatherhilgers</td>\n",
              "      <td>9</td>\n",
              "      <td>A Technicolor Dream\\n</td>\n",
              "      <td>Wow, this movie was a love letter to cinema. F...</td>\n",
              "      <td>/review/rw9201978/?ref_=tt_urv</td>\n",
              "    </tr>\n",
              "    <tr>\n",
              "      <th>...</th>\n",
              "      <td>...</td>\n",
              "      <td>...</td>\n",
              "      <td>...</td>\n",
              "      <td>...</td>\n",
              "      <td>...</td>\n",
              "      <td>...</td>\n",
              "    </tr>\n",
              "    <tr>\n",
              "      <th>70</th>\n",
              "      <td>28 July 2023</td>\n",
              "      <td>klastaitas</td>\n",
              "      <td>8</td>\n",
              "      <td>We're All Dolls\\n</td>\n",
              "      <td>Without consumerism, without belief, without p...</td>\n",
              "      <td>/review/rw9201978/?ref_=tt_urv</td>\n",
              "    </tr>\n",
              "    <tr>\n",
              "      <th>71</th>\n",
              "      <td>20 July 2023</td>\n",
              "      <td>FeastMode</td>\n",
              "      <td>7</td>\n",
              "      <td>I'll beach you off so hard\\n</td>\n",
              "      <td>I had no idea what to expect going into Barbie...</td>\n",
              "      <td>/review/rw9201978/?ref_=tt_urv</td>\n",
              "    </tr>\n",
              "    <tr>\n",
              "      <th>72</th>\n",
              "      <td>7 August 2023</td>\n",
              "      <td>misscattik</td>\n",
              "      <td>None</td>\n",
              "      <td>No questions just answers\\n</td>\n",
              "      <td>The title of the review practically sums it al...</td>\n",
              "      <td>/review/rw9201978/?ref_=tt_urv</td>\n",
              "    </tr>\n",
              "    <tr>\n",
              "      <th>73</th>\n",
              "      <td>23 July 2023</td>\n",
              "      <td>acdc_mp3</td>\n",
              "      <td>9</td>\n",
              "      <td>A really fun time\\n</td>\n",
              "      <td>Weeks ago I heard that there was going to be a...</td>\n",
              "      <td>/review/rw9201978/?ref_=tt_urv</td>\n",
              "    </tr>\n",
              "    <tr>\n",
              "      <th>74</th>\n",
              "      <td>20 July 2023</td>\n",
              "      <td>moriumemoltre</td>\n",
              "      <td>6</td>\n",
              "      <td>Great acting but why this movie?\\n</td>\n",
              "      <td>I was really surprised about how much i liked ...</td>\n",
              "      <td>/review/rw9201978/?ref_=tt_urv</td>\n",
              "    </tr>\n",
              "  </tbody>\n",
              "</table>\n",
              "<p>75 rows × 6 columns</p>\n",
              "</div>\n",
              "      <button class=\"colab-df-convert\" onclick=\"convertToInteractive('df-bb169aaf-90b1-466f-9438-5331da55549e')\"\n",
              "              title=\"Convert this dataframe to an interactive table.\"\n",
              "              style=\"display:none;\">\n",
              "\n",
              "  <svg xmlns=\"http://www.w3.org/2000/svg\" height=\"24px\"viewBox=\"0 0 24 24\"\n",
              "       width=\"24px\">\n",
              "    <path d=\"M0 0h24v24H0V0z\" fill=\"none\"/>\n",
              "    <path d=\"M18.56 5.44l.94 2.06.94-2.06 2.06-.94-2.06-.94-.94-2.06-.94 2.06-2.06.94zm-11 1L8.5 8.5l.94-2.06 2.06-.94-2.06-.94L8.5 2.5l-.94 2.06-2.06.94zm10 10l.94 2.06.94-2.06 2.06-.94-2.06-.94-.94-2.06-.94 2.06-2.06.94z\"/><path d=\"M17.41 7.96l-1.37-1.37c-.4-.4-.92-.59-1.43-.59-.52 0-1.04.2-1.43.59L10.3 9.45l-7.72 7.72c-.78.78-.78 2.05 0 2.83L4 21.41c.39.39.9.59 1.41.59.51 0 1.02-.2 1.41-.59l7.78-7.78 2.81-2.81c.8-.78.8-2.07 0-2.86zM5.41 20L4 18.59l7.72-7.72 1.47 1.35L5.41 20z\"/>\n",
              "  </svg>\n",
              "      </button>\n",
              "\n",
              "\n",
              "\n",
              "    <div id=\"df-823f3fd9-9939-4f77-bc58-7fc243de24bf\">\n",
              "      <button class=\"colab-df-quickchart\" onclick=\"quickchart('df-823f3fd9-9939-4f77-bc58-7fc243de24bf')\"\n",
              "              title=\"Suggest charts.\"\n",
              "              style=\"display:none;\">\n",
              "\n",
              "<svg xmlns=\"http://www.w3.org/2000/svg\" height=\"24px\"viewBox=\"0 0 24 24\"\n",
              "     width=\"24px\">\n",
              "    <g>\n",
              "        <path d=\"M19 3H5c-1.1 0-2 .9-2 2v14c0 1.1.9 2 2 2h14c1.1 0 2-.9 2-2V5c0-1.1-.9-2-2-2zM9 17H7v-7h2v7zm4 0h-2V7h2v10zm4 0h-2v-4h2v4z\"/>\n",
              "    </g>\n",
              "</svg>\n",
              "      </button>\n",
              "    </div>\n",
              "\n",
              "<style>\n",
              "  .colab-df-quickchart {\n",
              "    background-color: #E8F0FE;\n",
              "    border: none;\n",
              "    border-radius: 50%;\n",
              "    cursor: pointer;\n",
              "    display: none;\n",
              "    fill: #1967D2;\n",
              "    height: 32px;\n",
              "    padding: 0 0 0 0;\n",
              "    width: 32px;\n",
              "  }\n",
              "\n",
              "  .colab-df-quickchart:hover {\n",
              "    background-color: #E2EBFA;\n",
              "    box-shadow: 0px 1px 2px rgba(60, 64, 67, 0.3), 0px 1px 3px 1px rgba(60, 64, 67, 0.15);\n",
              "    fill: #174EA6;\n",
              "  }\n",
              "\n",
              "  [theme=dark] .colab-df-quickchart {\n",
              "    background-color: #3B4455;\n",
              "    fill: #D2E3FC;\n",
              "  }\n",
              "\n",
              "  [theme=dark] .colab-df-quickchart:hover {\n",
              "    background-color: #434B5C;\n",
              "    box-shadow: 0px 1px 3px 1px rgba(0, 0, 0, 0.15);\n",
              "    filter: drop-shadow(0px 1px 2px rgba(0, 0, 0, 0.3));\n",
              "    fill: #FFFFFF;\n",
              "  }\n",
              "</style>\n",
              "\n",
              "    <script>\n",
              "      async function quickchart(key) {\n",
              "        const containerElement = document.querySelector('#' + key);\n",
              "        const charts = await google.colab.kernel.invokeFunction(\n",
              "            'suggestCharts', [key], {});\n",
              "      }\n",
              "    </script>\n",
              "\n",
              "      <script>\n",
              "\n",
              "function displayQuickchartButton(domScope) {\n",
              "  let quickchartButtonEl =\n",
              "    domScope.querySelector('#df-823f3fd9-9939-4f77-bc58-7fc243de24bf button.colab-df-quickchart');\n",
              "  quickchartButtonEl.style.display =\n",
              "    google.colab.kernel.accessAllowed ? 'block' : 'none';\n",
              "}\n",
              "\n",
              "        displayQuickchartButton(document);\n",
              "      </script>\n",
              "      <style>\n",
              "    .colab-df-container {\n",
              "      display:flex;\n",
              "      flex-wrap:wrap;\n",
              "      gap: 12px;\n",
              "    }\n",
              "\n",
              "    .colab-df-convert {\n",
              "      background-color: #E8F0FE;\n",
              "      border: none;\n",
              "      border-radius: 50%;\n",
              "      cursor: pointer;\n",
              "      display: none;\n",
              "      fill: #1967D2;\n",
              "      height: 32px;\n",
              "      padding: 0 0 0 0;\n",
              "      width: 32px;\n",
              "    }\n",
              "\n",
              "    .colab-df-convert:hover {\n",
              "      background-color: #E2EBFA;\n",
              "      box-shadow: 0px 1px 2px rgba(60, 64, 67, 0.3), 0px 1px 3px 1px rgba(60, 64, 67, 0.15);\n",
              "      fill: #174EA6;\n",
              "    }\n",
              "\n",
              "    [theme=dark] .colab-df-convert {\n",
              "      background-color: #3B4455;\n",
              "      fill: #D2E3FC;\n",
              "    }\n",
              "\n",
              "    [theme=dark] .colab-df-convert:hover {\n",
              "      background-color: #434B5C;\n",
              "      box-shadow: 0px 1px 3px 1px rgba(0, 0, 0, 0.15);\n",
              "      filter: drop-shadow(0px 1px 2px rgba(0, 0, 0, 0.3));\n",
              "      fill: #FFFFFF;\n",
              "    }\n",
              "  </style>\n",
              "\n",
              "      <script>\n",
              "        const buttonEl =\n",
              "          document.querySelector('#df-bb169aaf-90b1-466f-9438-5331da55549e button.colab-df-convert');\n",
              "        buttonEl.style.display =\n",
              "          google.colab.kernel.accessAllowed ? 'block' : 'none';\n",
              "\n",
              "        async function convertToInteractive(key) {\n",
              "          const element = document.querySelector('#df-bb169aaf-90b1-466f-9438-5331da55549e');\n",
              "          const dataTable =\n",
              "            await google.colab.kernel.invokeFunction('convertToInteractive',\n",
              "                                                     [key], {});\n",
              "          if (!dataTable) return;\n",
              "\n",
              "          const docLinkHtml = 'Like what you see? Visit the ' +\n",
              "            '<a target=\"_blank\" href=https://colab.research.google.com/notebooks/data_table.ipynb>data table notebook</a>'\n",
              "            + ' to learn more about interactive tables.';\n",
              "          element.innerHTML = '';\n",
              "          dataTable['output_type'] = 'display_data';\n",
              "          await google.colab.output.renderOutput(dataTable, element);\n",
              "          const docLink = document.createElement('div');\n",
              "          docLink.innerHTML = docLinkHtml;\n",
              "          element.appendChild(docLink);\n",
              "        }\n",
              "      </script>\n",
              "    </div>\n",
              "  </div>\n"
            ]
          },
          "metadata": {},
          "execution_count": 12
        }
      ]
    },
    {
      "cell_type": "markdown",
      "source": [
        "Let's save this `pd.DataFrame` as a `.csv` to our local session (this will be terminated when you terminate the Colab session) so we can leverage it in LangChain!\n",
        "\n",
        "Check out the docs if you get stuck:\n",
        "- [`to_csv()`](https://pandas.pydata.org/docs/reference/api/pandas.DataFrame.to_csv.html)"
      ],
      "metadata": {
        "id": "9gHLLYflzw_f"
      }
    },
    {
      "cell_type": "code",
      "source": [
        "review_df.to_csv('barbie.csv', index=False)"
      ],
      "metadata": {
        "id": "N9FDhwbNz64p"
      },
      "execution_count": 13,
      "outputs": []
    },
    {
      "cell_type": "markdown",
      "source": [
        "#### Data Parsing\n",
        "\n",
        "Now that we have our data - let's go ahead and start parsing it into a more usable format for LangChain!\n",
        "\n",
        "We'll be using the `CSVLoader` for this application.\n",
        "\n",
        "We also want to be sure to track the sources that our review came from!\n",
        "\n",
        "Check out the docs here:\n",
        "- [`CSVLoader`](https://python.langchain.com/docs/integrations/document_loaders/csv)"
      ],
      "metadata": {
        "id": "JtBD1H8ezNLO"
      }
    },
    {
      "cell_type": "code",
      "source": [
        "from langchain.document_loaders.csv_loader import CSVLoader"
      ],
      "metadata": {
        "id": "AdXub4CszAAt"
      },
      "execution_count": 14,
      "outputs": []
    },
    {
      "cell_type": "code",
      "source": [
        "loader = CSVLoader(\n",
        "    file_path=\"barbie.csv\",\n",
        "    source_column=\"Review_Url\"\n",
        "    )\n",
        "\n",
        "data = loader.load()"
      ],
      "metadata": {
        "id": "piE3_eSi0KGC"
      },
      "execution_count": 18,
      "outputs": []
    },
    {
      "cell_type": "code",
      "source": [
        "print(data)"
      ],
      "metadata": {
        "id": "pvxnyjgh0TRQ",
        "outputId": "f2c13451-5640-49bf-928c-3d1fbcd2e7af",
        "colab": {
          "base_uri": "https://localhost:8080/"
        }
      },
      "execution_count": 19,
      "outputs": [
        {
          "output_type": "stream",
          "name": "stdout",
          "text": [
            "[Document(page_content='Review_Date: 21 July 2023\\nAuthor: LoveofLegacy\\nRating: 6\\nReview_Title: Beautiful film, but so preachy\\nReview: Margot does the best with what she\\'s given, but this film was very disappointing to me. It was marketed as a fun, quirky satire with homages to other movies. It started that way, but ended with over-dramatized speeches and an ending that clearly tried to make the audience feel something, but left everyone just feeling confused. And before you say I\\'m a crotchety old man, I\\'m a woman in my 20s, so I\\'m pretty sure I\\'m this movie\\'s target audience. The saddest part is there were parents with their kids in the theater that were victims of the poor marketing, because this is not a kid\\'s movie. Overall, the humor was fun on occasion and the film is beautiful to look at, but the whole concept falls apart in the second half of the film and becomes a pity party for the \"strong\" woman.\\nReview_Url: /review/rw9201978/?ref_=tt_urv', metadata={'source': '/review/rw9201978/?ref_=tt_urv', 'row': 0}), Document(page_content='Review_Date: 22 July 2023\\nAuthor: imseeg\\nRating: 7\\nReview_Title: 3 reasons FOR seeing it and 1 reason AGAINST.\\nReview: The first reason to go see it:\\nReview_Url: /review/rw9201978/?ref_=tt_urv', metadata={'source': '/review/rw9201978/?ref_=tt_urv', 'row': 1}), Document(page_content='Review_Date: 22 July 2023\\nAuthor: Natcat87\\nRating: 6\\nReview_Title: Too heavy handed\\nReview: As a woman that grew up with Barbie, I was very excited for this movie. I was curious to see how they would evolve the \"stereotypical Barbie\" into something more. But the messaging in this movie was so heavy handed that it completely lost the plot. I consider myself a proponent of gender equality, and this ain\\'t the way to get it.\\nReview_Url: /review/rw9201978/?ref_=tt_urv', metadata={'source': '/review/rw9201978/?ref_=tt_urv', 'row': 2}), Document(page_content='Review_Date: 31 July 2023\\nAuthor: ramair350\\nRating: 10\\nReview_Title: As a guy I felt some discomfort, and that\\'s ok.\\nReview: As much as it pains me to give a movie called \"Barbie\" a 10 out of 10, I have to do so. It is so brilliantly handled and finely crafted, I have to give the filmakers credit. Yes, I am somewhat conservative person and former law enforcement officer. I\\'m a guy. I like guy things. Hell I even enjoyed the Battleship movie a few years ago (an absolutely ridiculous but fun romp of an action film). But I also like to experience other perspectives. And man oh man does this movie deliver that in spades - pretty much encapsulated everything my wife has tried to convey about her entire career and life experience wrapped up into two hours! The humor, the sets, the acting, and the ability to weave the current narrative into the story was just perfect. I don\\'t agree with some of the points of the movie, but again, that\\'s ok. This movie wasn\\'t designed to give a balanced perspective of men versus women; it is a no-holds-barred unapologetic crazy ride of a rant about the real issues that women have faced since they were \"allowed\" to have \"real jobs\" and do the same things as men. Give me a well done film that is a blast to watch, that makes you think, and that was done from a place of creativity, passion, and attention to detail, and I\\'ll call it what it is: a 10 out of 10 masterpiece.\\nReview_Url: /review/rw9201978/?ref_=tt_urv', metadata={'source': '/review/rw9201978/?ref_=tt_urv', 'row': 3}), Document(page_content='Review_Date: 24 July 2023\\nAuthor: heatherhilgers\\nRating: 9\\nReview_Title: A Technicolor Dream\\nReview: Wow, this movie was a love letter to cinema. From the Kubrick reference at the opening, to the soundstage being 100% real - no cgi for the sets. There were dance sequences like in the olden days (think Grease) and the costuming , wow the costuming. Greta Gerwig dug deep to make this masterpiece using all of her technical chops along the way. The casting director also nailed it, everyone was wonderful.\\nReview_Url: /review/rw9201978/?ref_=tt_urv', metadata={'source': '/review/rw9201978/?ref_=tt_urv', 'row': 4}), Document(page_content=\"Review_Date: 21 July 2023\\nAuthor: G-Joshua-Benjamin\\nRating: 6\\nReview_Title: My mom and I saw this yesterday. Here are my thoughts.\\nReview: I don't know if I put spoilers in here. I am super worn out. Haha So I will just put that I did.\\nReview_Url: /review/rw9201978/?ref_=tt_urv\", metadata={'source': '/review/rw9201978/?ref_=tt_urv', 'row': 5}), Document(page_content='Review_Date: 21 July 2023\\nAuthor: Sleepin_Dragon\\nRating: 8\\nReview_Title: Well this really did come as a surprise.\\nReview: It pains me to say it, but I enjoyed this movie so much more then I was expecting to, musical numbers, humour, there truly is something for the whole family yo enjoy.\\nReview_Url: /review/rw9201978/?ref_=tt_urv', metadata={'source': '/review/rw9201978/?ref_=tt_urv', 'row': 6}), Document(page_content='Review_Date: 20 July 2023\\nAuthor: portraitofaladyonfire\\nRating: 6\\nReview_Title: Brilliant observations, but social depth is missing\\nReview: Greta Gerwig and Noah Baumbach have a knack for incorporating the many little observations of life, whether funny or deeply interpersonal, into a screenplay. Gerwig manages to direct them with great visuals and clever transitions.\\nReview_Url: /review/rw9201978/?ref_=tt_urv', metadata={'source': '/review/rw9201978/?ref_=tt_urv', 'row': 7}), Document(page_content=\"Review_Date: 24 July 2023\\nAuthor: coxaneesa\\nRating: 8\\nReview_Title: It was depressing\\nReview: I thought this would be so much different. The ending made me feel sad and empty. Ken and Barbie don't end up together and they made Ken seem like a complete idiot. Actually they presented men as being dumb throughout the whole movie. And I'm not a man but that's just not true. It was depressing and sad and never the way Barbie was created for. I know a lot of people won't agree with me and that's okay but it was just pointless going to see it. The only good thing is that the Barbie aesthetic was beautifully done.\\nReview_Url: /review/rw9201978/?ref_=tt_urv\", metadata={'source': '/review/rw9201978/?ref_=tt_urv', 'row': 8}), Document(page_content=\"Review_Date: 19 July 2023\\nAuthor: hamsterination\\nRating: 6\\nReview_Title: It could have been so much better...\\nReview: The film's universe and settings are fantastic. The casting is really good too, with Gosling excelling in the role of Ken.\\nReview_Url: /review/rw9201978/?ref_=tt_urv\", metadata={'source': '/review/rw9201978/?ref_=tt_urv', 'row': 9}), Document(page_content='Review_Date: 19 July 2023\\nAuthor: HabibieHakim123\\nRating: 8\\nReview_Title: Barbie Is A Weirdly Fun Movie!\\nReview: 8.5/10\\nWhile i\\'m not so sure at first, the movie kept getting even more fun, entertaining, and definitely better, also surprisingly deal with a legit serious stuff, Barbie is a weirdly fun movie that fills with this very interesting concept, definitely the first time that\\'s ever done, Greta Gerwig has created this whole new style of filmmaking specifically for Barbie, from the intentionally weird yet creative editing, some awkward and cringe scene, i found the comedy so funny instead of cringe, Barbie is one of the most original movie of the year and also one of the most original movie i\\'ve seen in a while, we all know Margot Robbie and Ryan Gosling is gonna carry the movie and they are, but Will Ferrell, Simu Liu, and the whole rest of the cast were also great and entertaining, the soundtrack was just great, except Nicki Minaj and Ice Spice \"Barbie World\" song that are just absolutely terrible, but Billie Eilish \"What Was I Made For?\" tune that kept haunting in the background until it finally get the perfect scene to played it was really the best thing because that song was just beautiful and emotional, anyway, Barbie is a lot of fun, while there is still some noticeable flawed, most of them i found it funny, entertaining, colourful, creative, and fun, pure fun, it\\'s something that i probably will love it even more the second time i see it, but as of right now, Barbie was a good time, definitely recommended and with this movie somehow it\\'s actually possible to have a live-action Barbie movie, all you need to have is a good writer, good director, and good cast, and they delivers mostly.\\nReview_Url: /review/rw9201978/?ref_=tt_urv', metadata={'source': '/review/rw9201978/?ref_=tt_urv', 'row': 10}), Document(page_content=\"Review_Date: 20 July 2023\\nAuthor: fscsgxp\\nRating: 6\\nReview_Title: Amazing Cast & Set, but the political message was too strong\\nReview: I've been excited for this movie for over a year. The casting was perfect and the acting was amazing! The set was next level, the tiny details were all there and even the highest barbie fan couldn't ask for anything more from it. It is PERFECTION.\\nReview_Url: /review/rw9201978/?ref_=tt_urv\", metadata={'source': '/review/rw9201978/?ref_=tt_urv', 'row': 11}), Document(page_content='Review_Date: 20 July 2023\\nAuthor: MissSimonetta\\nRating: 4\\nReview_Title: The marketing was more entertaining than the actual movie\\nReview: I went to see this today, everyone in my group dressed in pink and ready to at least be entertained by pastel-colored camp for two hours. BARBIE kind of succeeds there: I loved the costuming and sets of Barbieland, and Margot Robie is such a fantastic actress, the perfect embodiment of the optimistic, she-can-do-it-all Barbie. Ryan Gosling was a scene-stealer with his horse obsession and faux mink coat.\\nReview_Url: /review/rw9201978/?ref_=tt_urv', metadata={'source': '/review/rw9201978/?ref_=tt_urv', 'row': 12}), Document(page_content='Review_Date: 19 July 2023\\nAuthor: jpismyname\\nRating: 8\\nReview_Title: Fun and surprisingly touching\\nReview: I was honestly doubting this movie at first, but surprisingly I find myself really liking it quite a lot.\\nReview_Url: /review/rw9201978/?ref_=tt_urv', metadata={'source': '/review/rw9201978/?ref_=tt_urv', 'row': 13}), Document(page_content=\"Review_Date: 29 July 2023\\nAuthor: cmdown-50506\\nRating: 9\\nReview_Title: Now I am become Barbie Girl, the enjoyer of Barbie worlds\\nReview: I have been waiting for this to release for so long and I finally got to watch it today. I absolutely loved it! It was fun, it had Margot Robbie (and extra stuff for Tarantino's out there if you know what I mean) And it had some absolute bangers! What more could you want from a new summer classic?\\nReview_Url: /review/rw9201978/?ref_=tt_urv\", metadata={'source': '/review/rw9201978/?ref_=tt_urv', 'row': 14}), Document(page_content=\"Review_Date: 23 July 2023\\nAuthor: Revuer223\\nRating: 6\\nReview_Title: Could Have Been Great. 2nd Half Brings It Down.\\nReview: The quality, the humor, and the writing of the movie is fun for a while. It's quirky and it's unique. When they get into the weeds and try to explore deeper themes, the movie is a miss. The middle expositional phase of the movie, I must say, is a bore.\\nReview_Url: /review/rw9201978/?ref_=tt_urv\", metadata={'source': '/review/rw9201978/?ref_=tt_urv', 'row': 15}), Document(page_content=\"Review_Date: 4 August 2023\\nAuthor: thePopcornExplorer\\nRating: 9\\nReview_Title: I don't see how it was preachy\\nReview: In this day and age with society overall becoming more and more polarized and our leaders around the world doing nothing to improve dialogue, it seems that people became broken records. Now everything in the movies and TV shows is perceived as preachy, not everything is a conspiracy, people need to consider that movies and TV shows at its core, and specially the good ones, are about sharing perspectives and allow the audience, if their minds are opened to it, to acknowledge all sides of the stories.\\nReview_Url: /review/rw9201978/?ref_=tt_urv\", metadata={'source': '/review/rw9201978/?ref_=tt_urv', 'row': 16}), Document(page_content='Review_Date: 26 July 2023\\nAuthor: aherdofbeautifulwildponies\\nRating: 6\\nReview_Title: A Hot Pink Mess\\nReview: Before making Barbie (2023),\\nReview_Url: /review/rw9201978/?ref_=tt_urv', metadata={'source': '/review/rw9201978/?ref_=tt_urv', 'row': 17}), Document(page_content=\"Review_Date: 22 July 2023\\nAuthor: finnconnelly-63017\\nRating: 10\\nReview_Title: Ken out of ten\\nReview: Wow. I did not see this masterpiece coming. And that's not a joke. Somehow, Greta Gerwig took Barbie, and made a movie that tackles some really tough social issues....well? It's crazy. But wow, does it work. The story is very mature, thinker of a plot. Once you're done laughing your butt off, you'll get really emotional. The production design is so on point. The whole movie is pink everything, but it's never polarizing. All the shades melt together in a very pleasing way. And of course the cast! Margot Robbie was born to play Barbie, and she hits a home run, but Ryan Gosling. This dude rocks as Ken. He knocked it all the way around the world and hit himself in the back of the head. He steals every scene he's in, and I would be so on board with a Ken spin-off. America Ferrara and Simu Liu are also great in their respective roles, but the cast overall is just perfect. Overall, Barbie is probably the best movie based off a toy (sorry LEGO Movies) and an overall fantastic time at the movies.\\nReview_Url: /review/rw9201978/?ref_=tt_urv\", metadata={'source': '/review/rw9201978/?ref_=tt_urv', 'row': 18}), Document(page_content=\"Review_Date: 21 July 2023\\nAuthor: andermic18\\nRating: 6\\nReview_Title: No Direction\\nReview: The movie was very funny and really enjoyable to laugh at with the full theatre. However, the messages of the movie were the problem. I was never really sure what I was supposed to take away, there was nothing about finding equality or love it was all about how every man cat falls every woman or women can't be anything. It was really silly because there was no accurate reflection of America at any single point except for Barbie getting called a Fascist for no reason by a 14 year old. I enjoyed how they called out women for hating women and how they really tried to preach empowerment and the ability to be anything, but at the same time there was so much resentment and they ended the movie by reinstating hate. The majority of the movie was hating men as much as possible. That's just whatever because what really matters is the story. Well it fell short on that mark and it was really disappointing. The pacing was horrible, the villain won and was pretty irrelevant in the long run, the story was all over the place, and it is totally not for kids. I think the worst part is how disappointed I was at the opportunity to really make something special and it just wasn't. 6 points for all the laughs and fun I had and I would expect 6-7 to be an appropriate rating.\\nReview_Url: /review/rw9201978/?ref_=tt_urv\", metadata={'source': '/review/rw9201978/?ref_=tt_urv', 'row': 19}), Document(page_content='Review_Date: 20 July 2023\\nAuthor: Genti25\\nRating: 8\\nReview_Title: You are Kenough\\nReview: This movie is so much fun. It starts off really strong although the story does move away from \"Barbieland\" sooner than I would have liked. Nonetheless, it regains its footing with the final act in particular and I could not stop laughing at Ryan Gosling\\'s portrayal of Ken. That song will forever be stuck in my head.\\nReview_Url: /review/rw9201978/?ref_=tt_urv', metadata={'source': '/review/rw9201978/?ref_=tt_urv', 'row': 20}), Document(page_content=\"Review_Date: 19 July 2023\\nAuthor: tm-sheehan\\nRating: 6\\nReview_Title: Didn't hit my pink spot\\nReview: My Review - Barbie\\nIn Cinemas now\\nMy Rating 6.5/10\\nReview_Url: /review/rw9201978/?ref_=tt_urv\", metadata={'source': '/review/rw9201978/?ref_=tt_urv', 'row': 21}), Document(page_content='Review_Date: 23 July 2023\\nAuthor: herrcarter-92161\\nRating: 5\\nReview_Title: Somewhat of a Jumbled Mess\\nReview: My 15-year old daughter wrote the following review and posted it to my IMDB account.\\nReview_Url: /review/rw9201978/?ref_=tt_urv', metadata={'source': '/review/rw9201978/?ref_=tt_urv', 'row': 22}), Document(page_content='Review_Date: 19 July 2023\\nAuthor: andypaps101\\nRating: 8\\nReview_Title: \"Barbie\" - A Multifaceted Exploration of Femininity, Consumerism, and Existentialism\\nReview: I got free tickets for a preview and to be honest I was more than a little embarrassed to go. I did not tell a soul. As a cool middle aged gentleman if word got out this could have really affected my street cred.\\nReview_Url: /review/rw9201978/?ref_=tt_urv', metadata={'source': '/review/rw9201978/?ref_=tt_urv', 'row': 23}), Document(page_content=\"Review_Date: 23 July 2023\\nAuthor: subxerogravity\\nRating: 8\\nReview_Title: It's like G.I Joe...For girls! Seriously, and I love it for that!\\nReview: I mean, Margo Robbie as Barbie just made perfect sense, but I really wanted to see the movie when I herd that Ryian Gosling was going to be Ken, I just thought that would be hilarious and I was right!\\nReview_Url: /review/rw9201978/?ref_=tt_urv\", metadata={'source': '/review/rw9201978/?ref_=tt_urv', 'row': 24}), Document(page_content='Review_Date: 24 July 2023\\nAuthor: lokicola\\nRating: 6\\nReview_Title: Strong Start... and That\\'s It\\nReview: I walked out of the theatre thinking, \"Yeah, I had a good time in that movie\". But as the day went on I kind had that \"Ok, that kebab probably wasn\\'t a good idea.\"\\nReview_Url: /review/rw9201978/?ref_=tt_urv', metadata={'source': '/review/rw9201978/?ref_=tt_urv', 'row': 25}), Document(page_content=\"Review_Date: 21 July 2023\\nAuthor: masonsaul\\nRating: 10\\nReview_Title: The best version of itself\\nReview: Barbie is everything expected of it and so much more, a self aware and meta comedy made for fans and newcomers alike that's also incredibly profound, layered and really funny. It's the best version of itself and just immensely satisfying that the Barbie movie that got made on this scale is so weird and unique.\\nReview_Url: /review/rw9201978/?ref_=tt_urv\", metadata={'source': '/review/rw9201978/?ref_=tt_urv', 'row': 26}), Document(page_content='Review_Date: 19 July 2023\\nAuthor: dreopdreef\\nRating: 6\\nReview_Title: Not so unique as expected\\nReview: The concept of a Barbie movie is really unique and got me all exited. But unfortunately to me it delivers the same messages that we keep hearing as of lately.\\nReview_Url: /review/rw9201978/?ref_=tt_urv', metadata={'source': '/review/rw9201978/?ref_=tt_urv', 'row': 27}), Document(page_content='Review_Date: 1 August 2023\\nAuthor: zkonedog\\nRating: 10\\nReview_Title: An Amazingly Perfect Blend Of Social Satire & Fun\\nReview: For a film like \"Barbie\" to succeed, every aspect had to come together perfectly. It needed to consummately balance satire with fun, the casting had to be spot-on, and the writing/directing required to pull off such a feat would need to be exquisite. Somewhat remarkably, that is exactly what writer/director Greta Gerwig pulls off here to create the best movie of summer 2023.\\nReview_Url: /review/rw9201978/?ref_=tt_urv', metadata={'source': '/review/rw9201978/?ref_=tt_urv', 'row': 28}), Document(page_content=\"Review_Date: 19 July 2023\\nAuthor: mark-217-307033\\nRating: 6\\nReview_Title: Fun film whose script falls in on itself\\nReview: Margot Robbie's performance is perfect, and no other actor could've embodied the character as well as she does. However, Ryan Gosling is the film-stealer. I often forget his comedic talent, and he's given a lot of room to flex it in this. A cleverly executed Matchbox Twenty joke is particularly memorable.\\nReview_Url: /review/rw9201978/?ref_=tt_urv\", metadata={'source': '/review/rw9201978/?ref_=tt_urv', 'row': 29}), Document(page_content=\"Review_Date: 19 July 2023\\nAuthor: anjamulder\\nRating: 8\\nReview_Title: not for everyone\\nReview: This is very much a movie that will get devided opinions on it, my cousin said well this is two hours of my life i will never get back, and me? I left the theatre in such a good mood. It was the sense of humor for me, laughed so hard. Specially Ryan Gossling was sooooo good and funny, many familiar faces to spot also. And margot robbie come on... the perfect casting for Barbie. I also have to say, the way they created Barbie land was so amazing, it just makes you just want to there. I don't really have anything bad to say about this movie. I can understand not everyone will love it. But i am sure it is a iconic film already.\\nReview_Url: /review/rw9201978/?ref_=tt_urv\", metadata={'source': '/review/rw9201978/?ref_=tt_urv', 'row': 30}), Document(page_content='Review_Date: 19 July 2023\\nAuthor: AvionPrince16\\nRating: 6\\nReview_Title: Barbie land and reality\\nReview: Im not really disappointed or love the movie to be honest. It was kind of weird and strange at the beginning: we understand it later because we are in the Barbie world. So they played with the culture reference of the barbie, the dolls and what they represent: an ideal world with where the womans are in power. Things will get pretty normal after they enter the real world and all the problems: sexual remark, womens and their place in society (the inequality with mens.) I was pretty sure they will talk about the problems with womans and their complex because of Barbie and the perfect women she is and how this is contrasted with the real world. Its pretty obvious that they will talk about it. I love also how Ken will also notice how mens are more powerful in the real world: its like everyone see that reality is not really what they perceived themselves in their own reality and power will shift also later in Barbie Land. I understand why they act like this and stuff but i didnt really get into the movie to be honest: i only identify myself when they talked about society and business but all the musical things, the choregraphy and even the morality was kind of superficial. But i enjoyed that Barbie realised the problems of our world and compare to her own. Some moments was funny and some more serious or drama sometimes even if its pretty soft because we are in Barbie Land. I mean i spend a great time but it was kind of ok. And i still think its a great Barbie movie: the task was not easy to represent that world but i enjoyed the set design, the colors, the camera movements. I think people who played with Barbie dolls or just know the universe will be happy; they have a lot of references to the world and a lot of Barbie references to the dolls and the differents clothes and the impact of her in society. Some moments were also absurd ( the fight with all the Kens). Its good anyway.\\nReview_Url: /review/rw9201978/?ref_=tt_urv', metadata={'source': '/review/rw9201978/?ref_=tt_urv', 'row': 31}), Document(page_content='Review_Date: 21 July 2023\\nAuthor: MaskedMinty\\nRating: 5\\nReview_Title: Preach Preach Preach\\nReview: Let me start by saying that I\\'m by no means a conservative or traditional woman. I believe that inequality for women still is rampant even in first world countries and that we go through many problems. But damn...this movie is so corporate and shallow. It\\'s clearly ordered and tailored by executives at Mattel to rebrand and sell more dolls. The movie starts well and has the potential of becoming something very good, but then it just goes downhill: the premise of the owner\\'s feeling being projected onto the doll was going to lead to a very nice build up about a person\\'s life journey and then Barbie and Ken go to the human world and cue in the speeches and preaching. This movie suffers from a bad case of showing and not telling, they keep repeating the same dialogues: patriarchy bad patriarchy bad patriarchy bad sexism sexism sexism, not even one time but MULTIPLE TIMES. These characters go into random rants like its a ted talk! The chemistry between the mother and daughter is absolutely nonexistent and their relationship is so cringe, You cant root for them or feel their feelings at all. Barbie should have understood how Kens had been feeling in the Barbieland the whole time which is a mimic of how many women are still treated in the society: just existing for the gaze of a woman (man). Yet what do they do? They manipulate them (with a super nonsense plan) and force them back to their original position while she gives him a half assed apology that could have been done better and end up to a more accurate point about equality. (I guess this is again meta and a reflection of how women are pitted against each other while people in charge benefit from that but its so badly done that it feels meh.)\\nI can imagine that in the boardroom they went through a discussion like this: People are going to think this is a feel good movie so we need to give them something deeper but also lets make it absurd and fast paced so that we can finish the plot quickly and also jump on the \"not taking itself serious\" bandwagon and also market these dolls again in the age of smartphone kids. The only reason this movie gets at 5 from me is the humor, which sometimes becomes very meta and creative and Margot Robbie and Ryan Gosling have acted very well. Besides this, they could have just given us a simple feel good movie and I would have respected the creators more. Pass.\\nReview_Url: /review/rw9201978/?ref_=tt_urv', metadata={'source': '/review/rw9201978/?ref_=tt_urv', 'row': 32}), Document(page_content=\"Review_Date: 21 July 2023\\nAuthor: imdbmovieguy\\nRating: \\nReview_Title: Honestly - not funny and light enough\\nReview: I really enjoyed the first 20 minutes of the movie. It was very upbeat, positive and light. However, things soon became negative about 20 - 25 minutes into the movie. I couldn't stand it. Barbie's world and attitude was a constant bummer. Ken's attitude was sour. For the next hour (and more) the movie just lived in negativity.\\nReview_Url: /review/rw9201978/?ref_=tt_urv\", metadata={'source': '/review/rw9201978/?ref_=tt_urv', 'row': 33}), Document(page_content='Review_Date: 19 July 2023\\nAuthor: faeez_rizwan\\nRating: 9\\nReview_Title: Wildly Pink\\nReview: Barbie Movie Review\\nReview_Url: /review/rw9201978/?ref_=tt_urv', metadata={'source': '/review/rw9201978/?ref_=tt_urv', 'row': 34}), Document(page_content='Review_Date: 4 August 2023\\nAuthor: evanston_dad\\nRating: 8\\nReview_Title: Smart and Winning\\nReview: My wife and I were two of the apparently 200,000 or so people who Barbenheimered Greta Gerwig\\'s and Chritopher Nolan\\'s hot topic movies on opening weekend. \"Oppenheimer\" was first, a boring slog of history in which a bunch of white men blathering at each other for three hours resulted in the creation of weapons that could wipe out humanity. \"Barbie\" came in the evening, a fresh breeze of humanity to clear away Nolan\\'s emotional constipation.\\nReview_Url: /review/rw9201978/?ref_=tt_urv', metadata={'source': '/review/rw9201978/?ref_=tt_urv', 'row': 35}), Document(page_content=\"Review_Date: 21 July 2023\\nAuthor: arslanmanzoor123\\nRating: 6\\nReview_Title: Quite disappointing\\nReview: Some friends freaking out that I went to see Barbie lol I mean I mentioned I went coz my sister insisted since ages. Anyway the movie was bad. These days, every other director and producer wants to convey messages about women rights and feminism through whatever platform possible and this movie was a perfect example of that with sheer cringe to convey all that. I wished I had gotten the ticket for Oppenheimer in the same timings as my sister's Barbie show. Other than that, the acting done by Margot Robbie and Ryan Gosling was great so can't take that away from them. They did justice to their roles.\\nReview_Url: /review/rw9201978/?ref_=tt_urv\", metadata={'source': '/review/rw9201978/?ref_=tt_urv', 'row': 36}), Document(page_content='Review_Date: 23 July 2023\\nAuthor: eoinageary\\nRating: 8\\nReview_Title: I am Kenough\\nReview: So I went into the movie with little to no expectations and I was pleasantly impressed with the movie overall.\\nReview_Url: /review/rw9201978/?ref_=tt_urv', metadata={'source': '/review/rw9201978/?ref_=tt_urv', 'row': 37}), Document(page_content='Review_Date: 25 July 2023\\nAuthor: spika13\\nRating: 6\\nReview_Title: Too overrated\\nReview: Its like watching at \"Truman\\'s show\" but all the set it\\'s pink color with a hint of extreme feminist ideas. I grew up with barbie dolls and I felt very disappointed, I was expecting a different kind of story, the ending was the worst. I think the message should be more with the real feminist concept of Simone de Bouvoir, we all deserve the same rights. In the end Instead of just Barbie Land they should changed as; Barbie and Ken Land.\\nReview_Url: /review/rw9201978/?ref_=tt_urv', metadata={'source': '/review/rw9201978/?ref_=tt_urv', 'row': 38}), Document(page_content=\"Review_Date: 23 July 2023\\nAuthor: Anurag-Shetty\\nRating: 10\\nReview_Title: A wholesome delight!\\nReview: Barbie is based on Mattel's iconic plastic dolls of the same name. Barbie(Margot Robbie) lives a very happy life in Barbie Land, along with her fellow Barbies, Ken(Ryan Gosling) & his fellow Kens. Suddenly, Barbie goes through an existential crisis that makes her question Barbie Land & the truth of her existence.\\nReview_Url: /review/rw9201978/?ref_=tt_urv\", metadata={'source': '/review/rw9201978/?ref_=tt_urv', 'row': 39}), Document(page_content=\"Review_Date: 24 July 2023\\nAuthor: GhostFoxX\\nRating: 6\\nReview_Title: Misleading.\\nReview: I personally expected the movie to be fun and adventurous. Correct me if I'm wrong, but isn't that what it is supposed to be? It's literally a movie about Barbie. Instead, it felt more like an agent of woke culture, and basically Mattel's (the company that produces Barbie dolls) way of capitalizing the emotional aspect of the cinephiles to make their business more popular and trendier. It continuously tried to portray the fact that Mattel is no more producing white barbie dolls, it is now producing dolls of all colors and races. Well, that is definitely a good thing, but making most of the movie focus on that aspect felt very boring and wrong. If they didn't quite make a movie that is fun and adventurous, why make the marketing events misleading? They could've just focused on the audience for whom it was made, rather than on the entire world through their absurdly irrelevant marketing events that made the world think that this movie is going to be all about fun and adventure. Sadly, it was not nearly as enjoyable as the misleading marketing made it seem.\\nReview_Url: /review/rw9201978/?ref_=tt_urv\", metadata={'source': '/review/rw9201978/?ref_=tt_urv', 'row': 40}), Document(page_content=\"Review_Date: 25 July 2023\\nAuthor: mr_bickle_the_pickle\\nRating: 8\\nReview_Title: Life in plastic, it's fantastic!\\nReview: It's an incredibly fun movie. Lots of laughs. Very campy over the top humour. But also surprisingly touching. My favourite scene of the movie is just rather a small quiet moment where Barbie is observing every day life and tells an old woman how beautiful she is. Margot Robbie shines in the lead role. Ryan Gosling clearly was having a lot of fun with the role, but don't sleep on Michael Cera as Allan. I know a lot of people say that Ryan Gosling is a scene stealer, but personally I thought Michael was.\\nReview_Url: /review/rw9201978/?ref_=tt_urv\", metadata={'source': '/review/rw9201978/?ref_=tt_urv', 'row': 41}), Document(page_content='Review_Date: 1 August 2023\\nAuthor: badreviewer\\nRating: 6\\nReview_Title: This Barbie is dissapointed.\\nReview: Yes. Day by day it becomes more obvious that now the movies are made just because of the income they generate and nothing else. Ok, Barbie itself was not a creative idea, I know. And actually I didn\\'t expect to see something unseen something unique in the first place, all in all it\\'s \"Barbie\".\\nReview_Url: /review/rw9201978/?ref_=tt_urv', metadata={'source': '/review/rw9201978/?ref_=tt_urv', 'row': 42}), Document(page_content=\"Review_Date: 24 July 2023\\nAuthor: brianjohnson-20043\\nRating: 4\\nReview_Title: This movie tries to be too much\\nReview: I wanted to like it. But I just didn't. The story wasn't very compelling to me because it seemed as if the entire point of much of the movie was to provide learning moments for viewers with some slapstick comedy and quick-delivery comedy. The story itself should nearly always be more important.\\nReview_Url: /review/rw9201978/?ref_=tt_urv\", metadata={'source': '/review/rw9201978/?ref_=tt_urv', 'row': 43}), Document(page_content=\"Review_Date: 21 July 2023\\nAuthor: rannynm\\nRating: 10\\nReview_Title: What A Film! I Was Ecstatic About Seeing Barbie And It Definitely Exceeded My Expectations By Far.\\nReview: What a film! I was ecstatic about seeing Barbie and it definitely exceeded my expectations by far. As much as I was excited, I was a bit scared that the stakes were too high; after all Barbie is an icon and a part of so many people's childhood. For a film like this it's very easy to create something corny, disappointing, or unappealing to viewers. I'm so glad that Gretta Gerwig stepped up to the plate and created an absolute masterpiece.\\nReview_Url: /review/rw9201978/?ref_=tt_urv\", metadata={'source': '/review/rw9201978/?ref_=tt_urv', 'row': 44}), Document(page_content=\"Review_Date: 23 July 2023\\nAuthor: Jeremy_Urquhart\\nRating: 8\\nReview_Title: Surprisingly good\\nReview: I think part of my brain rejects this for being a feature-length toy commercial, but it's a very small part of my brain (and that really wasn't where my mind was for the majority of the movie).\\nReview_Url: /review/rw9201978/?ref_=tt_urv\", metadata={'source': '/review/rw9201978/?ref_=tt_urv', 'row': 45}), Document(page_content=\"Review_Date: 23 July 2023\\nAuthor: jacquihives\\nRating: 6\\nReview_Title: I had no expectations but was still underwhelmed\\nReview: I loved barbie growing up, and even at 42 years old I couldn't wait to go see the movie! I didn't have any expectations because I had no idea how they could make a movie about barbie that's for adults and not kids. I adored Barbieland, but unfortunately they leave it behind so fast and with it they also leave behind everything good about bringing barbie to life in a movie! It got silly, had no storyline, was overly political and woke, man bashing and made men silly, and I really didn't care for the ending which is just as well because it was abrupt and crude.\\nReview_Url: /review/rw9201978/?ref_=tt_urv\", metadata={'source': '/review/rw9201978/?ref_=tt_urv', 'row': 46}), Document(page_content=\"Review_Date: 23 July 2023\\nAuthor: nethy-nho\\nRating: 10\\nReview_Title: Barbie is not a simple live action of a timeless doll\\nReview: But it is also in its smallest details, from the art direction, costumes, and any technical choice completely thought of referencing all Barbie generations and the like. A soundtrack that will take you from laughing to crying (yes, very musical moments, after all it is a Barbie movie), in addition to the hand-picked cast, Margot is impeccable and manages to express all her feelings, just with her eyes. Greta's direction and screenplay, just amazing, strong, emotional, empowering and very, very feminist, not only for the women who are already fighting for the cause, but to open everyone's eyes to a sisterhood.\\nReview_Url: /review/rw9201978/?ref_=tt_urv\", metadata={'source': '/review/rw9201978/?ref_=tt_urv', 'row': 47}), Document(page_content=\"Review_Date: 26 July 2023\\nAuthor: JPARM-IMDb\\nRating: 6\\nReview_Title: Expected more from Greta Gerwig\\nReview: Even though I'm not the target audience for this movie, I thought Barbie might impress me due to Greta Gerwig's previous works but I'm disappointed.\\nReview_Url: /review/rw9201978/?ref_=tt_urv\", metadata={'source': '/review/rw9201978/?ref_=tt_urv', 'row': 48}), Document(page_content='Review_Date: 10 August 2023\\nAuthor: adamjohns-42575\\nRating: 8\\nReview_Title: A sheer pleasure to watch.\\nReview: Barbie (2023) -\\nReview_Url: /review/rw9201978/?ref_=tt_urv', metadata={'source': '/review/rw9201978/?ref_=tt_urv', 'row': 49}), Document(page_content='Review_Date: 29 July 2023\\nAuthor: Vic_max\\nRating: 7\\nReview_Title: A lot like The Lego Movie - except for the 2nd half\\nReview: As a guy who never played with Barbie dolls, I was surprised to be caught up in the enthusiasm to see this movie; I purchased tickets well in advance when they first went on sale.\\nReview_Url: /review/rw9201978/?ref_=tt_urv', metadata={'source': '/review/rw9201978/?ref_=tt_urv', 'row': 50}), Document(page_content='Review_Date: 7 August 2023\\nAuthor: saimariejohnson\\nRating: 10\\nReview_Title: Wildly Entertaining.\\nReview: Barbie surprised me in all the best ways. It was funny, moving, inspirational, and all around ridiculously entertaining. I mean that with every sense of the implication to.\\nReview_Url: /review/rw9201978/?ref_=tt_urv', metadata={'source': '/review/rw9201978/?ref_=tt_urv', 'row': 51}), Document(page_content='Review_Date: 19 July 2023\\nAuthor: AvionPrince16\\nRating: 6\\nReview_Title: Barbie Land\\nReview: Im not really disappointed or love the movie to be honest. It was kind of weird and strange at the beginning: we understand it later because we are in the Barbie world. So they played with the culture reference of the barbie, the dolls and what they represent: an ideal world with where the womans are in power. Things will get pretty normal after they enter the real world and all the problems: sexual remark, womens and their place in society (the inequality with mens.) I was pretty sure they will talk about the problems with womans and their complex because of Barbie and the perfect women she is and how this is contrasted with the real world. Its pretty obvious that they will talk about it. I love also how Ken will also notice how mens are more powerful in the real world: its like everyone see that reality is not really what they perceived themselves in their own reality and power will shift also later in Barbie Land. I understand why they act like this and stuff but i didnt really get into the movie to be honest: i only identify myself when they talked about society and business but all the musical things, the choregraphy and even the morality was kind of superficial. But i enjoyed that Barbie realised the problems of our world and compare to her own. Some moments was funny and some more serious or drama sometimes even if its pretty soft because we are in Barbie Land. I mean i spend a great time but it was kind of ok. And i still think its a great Barbie movie: the task was not easy to represent that world but i enjoyed the set design, the colors, the camera movements. Its good anyway.\\nReview_Url: /review/rw9201978/?ref_=tt_urv', metadata={'source': '/review/rw9201978/?ref_=tt_urv', 'row': 52}), Document(page_content='Review_Date: 22 July 2023\\nAuthor: shadowtramp\\nRating: 5\\nReview_Title: More of a marketing flick\\nReview: The brilliant marketing is what led us tonight to pay for the tickets. The brilliance ends there.\\nReview_Url: /review/rw9201978/?ref_=tt_urv', metadata={'source': '/review/rw9201978/?ref_=tt_urv', 'row': 53}), Document(page_content=\"Review_Date: 22 July 2023\\nAuthor: lisacarlson50\\nRating: 10\\nReview_Title: Creatively Brilliant\\nReview: Brilliantly written by Greta Gerwig and Noah Baumbach. Everyone in this is fantastic. It's a wink at nostalgia and commentary on society. Never played with Barbies but my daughter did. Tribute to the inventor of Barbie, Ruth Handler. Helen Mirren narrates. Kate McKinnon almost steals the movie. Not a movie for little kids but most of the references will probably go over their heads. My girlfriend and I laughed out loud many times. It's about 20 minutes too long for my taste. The music is spot on. It's a perfect summer movie. Guess what? It has value and substance. Margot Robbie is not only gorgeous but more importantly, she's highly intelligent as actor and producer. This movie is going to make bank!\\nReview_Url: /review/rw9201978/?ref_=tt_urv\", metadata={'source': '/review/rw9201978/?ref_=tt_urv', 'row': 54}), Document(page_content='Review_Date: 22 July 2023\\nAuthor: DoNotComeToTheCinemaDepressed\\nRating: 10\\nReview_Title: 🏩 Possibly a Masterpiece? 💒\\nReview: I Understand that Some People are Going to Have Big Big Problems with Some of the Messaging within this Film. But Sometimes, in Life 😂, You Just Have to Go With It.\\nReview_Url: /review/rw9201978/?ref_=tt_urv', metadata={'source': '/review/rw9201978/?ref_=tt_urv', 'row': 55}), Document(page_content='Review_Date: 29 July 2023\\nAuthor: planktonrules\\nRating: 6\\nReview_Title: Good...not great\\nReview: \"Barbie\" is a movie that is setting all sorts of records, so it\\'s obvious that the film is touching many people. For some, it\\'s the fun of seeing a doll come to life, for others it\\'s the theme of empowerment that make the movie a big hit. As for me, I did like it and thought it was a pretty good movie...but it\\'s not for everyone.\\nReview_Url: /review/rw9201978/?ref_=tt_urv', metadata={'source': '/review/rw9201978/?ref_=tt_urv', 'row': 56}), Document(page_content='Review_Date: 9 August 2023\\nAuthor: L3MM3\\nRating: \\nReview_Title: Boring, mind-numbing drivel\\nReview: I do not usually write reviews, but this is beyond description. Last time I wrote a review it was for the absolutely horrible wrinkle in time. This is almost as bad. At least Gosling plays his part well, but the story is abysmal. If you can find anything else to do like watch paint dry, then yes please do. You will save your brain cells the agony of a painful slow ..... nearly two hours long this was mind-numbing storytelling at its mediocre worst. How many ways can I say do not go see it if you have a choice. See anything else but this exercise in horrendous cliches and exaggerated self-importance. If I could give it negative 10 stars I would.\\nReview_Url: /review/rw9201978/?ref_=tt_urv', metadata={'source': '/review/rw9201978/?ref_=tt_urv', 'row': 57}), Document(page_content='Review_Date: 27 July 2023\\nAuthor: sanadalsalt\\nRating: 10\\nReview_Title: Laugh, Reflect, Repeat: Exploring the Wonders of \\'Barbie\\'\\nReview: Oh my goodness, where do I even begin with \"Barbie\" (2023)? This film is an absolute delight and a true masterpiece that will leave you in awe. Directed by the incredibly talented Greta Gerwig and starring the stunning Margot Robbie as the iconic doll herself, \"Barbie\" is a cinematic experience like no other.\\nReview_Url: /review/rw9201978/?ref_=tt_urv', metadata={'source': '/review/rw9201978/?ref_=tt_urv', 'row': 58}), Document(page_content=\"Review_Date: 21 July 2023\\nAuthor: suf-54719\\nRating: 6\\nReview_Title: It's a silly movie\\nReview: The story feels like watching modern animated barbie movies in this past decade. If you lower your expectations, you gonna kinda enjoy it. The first 30 minutes is good, but the last 30 minutes feel rushed.\\nReview_Url: /review/rw9201978/?ref_=tt_urv\", metadata={'source': '/review/rw9201978/?ref_=tt_urv', 'row': 59}), Document(page_content='Review_Date: 21 July 2023\\nAuthor: meltingmel\\nRating: 10\\nReview_Title: 10/10!!!!!!!\\nReview: Wow. WOW!!!!\\nReview_Url: /review/rw9201978/?ref_=tt_urv', metadata={'source': '/review/rw9201978/?ref_=tt_urv', 'row': 60}), Document(page_content=\"Review_Date: 23 July 2023\\nAuthor: agjbull\\nRating: 6\\nReview_Title: Just a little empty\\nReview: I really wanted to enjoy this and I know that I am not the target audience but there were massive plot holes and no real flow. The film was very disjointed. Ryan Gosling as good as he is seemed to old to play Ken and Will Ferrell ruined every scene he was in. I just didn't get it, it seemed hollow artificial and hackneyed. A waste of some great talent. It was predictable without being reassuring and trying so hard to be woke in the most superficial way in that but trying to tick so many boxes it actually ticked none. Margo Robbie looks beautiful throughout, the costumes and the sets were amazing but the story was way too weak and didn't make much sense at all.\\nReview_Url: /review/rw9201978/?ref_=tt_urv\", metadata={'source': '/review/rw9201978/?ref_=tt_urv', 'row': 61}), Document(page_content='Review_Date: 20 July 2023\\nAuthor: mavigangi\\nRating: 10\\nReview_Title: A colorful love letter to human kind\\nReview: I cried, I laughed, I dance and I did sing too. What a joyful time I had at the movies watching Barbie. This is a movie to celebrate how diverse and complicated are the humans. The cinematography is a outstanding as well as the production design and the vestuary. The casting seems like made in heaven. I recommend this movie for 11+ years old. And if you have a teen at home, take her with you. Barbie goes from fun to introspection and I love a good comedy that makes you think. Ryan Gosling is the perfect Ken, he does everything in this movie and shines every time he shows up. Margo is a perfect Barbie and got a real sense of the relevance this is going to have.\\nReview_Url: /review/rw9201978/?ref_=tt_urv', metadata={'source': '/review/rw9201978/?ref_=tt_urv', 'row': 62}), Document(page_content=\"Review_Date: 10 August 2023\\nAuthor: arcelivez-753-983928\\nRating: 6\\nReview_Title: Honestly - no idea why people are so hyped up with this\\nReview: Honestly I really have no idea why this movie seems to be so popular. Again honest - I went there just for Margot Robbie (I'm a married 34 year old male, and margot is one of my top 3 favorite actrices of all time, and arguably the most talented one from my list). And for that part it was totally ok. But the movie absolutely doesn't deserve an imdb rating above 5.6. The plot itself was very simple. Absolutely nothing particularly special in it. So if it is in fact getting rated so high just because of Margot alone, then why do her other movies don't get rated that well and get that much attention? Honestly I really don't understand and I think this movie is way too overhyped for no reason. And I have no idea why... For other movies that get hyped like that I do see the reasons why they're getting so hyped. So the movie is not awful, but it's rather average, if you're not going there specifically for Margot then I am pretty sure there will be multiple movies at your local cinema at the time you're reading this, which are way more worth watching than this one...\\nReview_Url: /review/rw9201978/?ref_=tt_urv\", metadata={'source': '/review/rw9201978/?ref_=tt_urv', 'row': 63}), Document(page_content='Review_Date: 22 July 2023\\nAuthor: fernandoschiavi\\nRating: 5\\nReview_Title: \"Barbie\" is fun and visually beautiful, but unfortunately Barbie doll was dragged into the cultural war, used as a puppet by political militancy\\nReview: Despite the strong commercial tone, it is still possible to perceive that we are watching a film by Greta Gerwig, director known for dramatic comedies that capture the complexity of femininity in an original way - although, in this case, it is almost inevitable to fall into some clichés. The undeniable feminist tone exists through the presence of this female director - in addition to Margot Robbie herself as a producer. \"Barbie\" has sharp and intelligent comments on the dynamics between men and women over time and also on how these social roles are seen and problematized today. And the film does it with a big heart: the story is genuinely fun, with a humor that walks between acidity and innocence, but also moves with the existential journey of its protagonists, reserving touching moments and provoking reflections, especially in its final stretch. Debauchery is the great ally of Gerwig and Baumbach to deal not only with sexism, but also with the \"corporate\" issue. It won\\'t be strange if you catch yourself thinking \"how did Mattel let this film see the light of day?\" Laughing at yourself, after all, seems to be a prerequisite for establishing communication with a young generation of consumers who associate their consumption habits with a critical eye on consumerism itself.\\nReview_Url: /review/rw9201978/?ref_=tt_urv', metadata={'source': '/review/rw9201978/?ref_=tt_urv', 'row': 64}), Document(page_content='Review_Date: 23 July 2023\\nAuthor: anniebleasdale-97708\\nRating: 9\\nReview_Title: Wildly misunderstood by the poor reviewers.\\nReview: Unfortunately, most reviews that I\\'ve read here that score this film poorly explain so clearly that the reviewer did not understand the message of the film. It is not anti-men, it does not portray men as \"stupid\". Take a moment to think about how women have been portrayed in movies over the last century - oh yes, just as Ken is here! The movie exaggerates this, yes. That is the point. To clearly (and humourously) highlight the inequalities when the roles are reversed. Stop being offended by something that isn\\'t offensive and take a bit of time to actually think about the film that you have watched.\\nReview_Url: /review/rw9201978/?ref_=tt_urv', metadata={'source': '/review/rw9201978/?ref_=tt_urv', 'row': 65}), Document(page_content='Review_Date: 20 July 2023\\nAuthor: MatthewMichaelHoffman\\nRating: 8\\nReview_Title: Fails to meet expectations, but still fun!\\nReview: SCORE: 7.8/10\\nReview_Url: /review/rw9201978/?ref_=tt_urv', metadata={'source': '/review/rw9201978/?ref_=tt_urv', 'row': 66}), Document(page_content='Review_Date: 3 August 2023\\nAuthor: DanLawson146\\nRating: 7\\nReview_Title: Fun, but too on the nose at times\\nReview: POSITIVES:\\nReview_Url: /review/rw9201978/?ref_=tt_urv', metadata={'source': '/review/rw9201978/?ref_=tt_urv', 'row': 67}), Document(page_content=\"Review_Date: 20 July 2023\\nAuthor: PedroPires90\\nRating: 8\\nReview_Title: A triumph\\nReview: I appreciated it but wasn't a huge fan of Greta Gerwig's first two films. I knew absolutely nothing about Barbie except that it was a doll. The trailers didn't impress me. I slept less than an hour last night. I watched the movie alone surrounded by teenagers who cheered when the WB logo appeared in pink.\\nReview_Url: /review/rw9201978/?ref_=tt_urv\", metadata={'source': '/review/rw9201978/?ref_=tt_urv', 'row': 68}), Document(page_content='Review_Date: 6 August 2023\\nAuthor: pompeiirome\\nRating: 6\\nReview_Title: Ryan Gosling, a pure showman\\nReview: If forgotten, Ryan Gosling started off in the mickey mouse club. Important to remember because wow what a talented individual. Recent memory sees him leading roles that require a more stoic subdued approach, and it can be easy to miss his range. Barbie seeks to utilize all his acting muscles, and to a resounding success. He can sing, dance, act, and do comedy.\\nReview_Url: /review/rw9201978/?ref_=tt_urv', metadata={'source': '/review/rw9201978/?ref_=tt_urv', 'row': 69}), Document(page_content=\"Review_Date: 28 July 2023\\nAuthor: klastaitas\\nRating: 8\\nReview_Title: We're All Dolls\\nReview: Without consumerism, without belief, without plastic accessory and hope for a perfect day, where would Barbie find herself?\\nReview_Url: /review/rw9201978/?ref_=tt_urv\", metadata={'source': '/review/rw9201978/?ref_=tt_urv', 'row': 70}), Document(page_content=\"Review_Date: 20 July 2023\\nAuthor: FeastMode\\nRating: 7\\nReview_Title: I'll beach you off so hard\\nReview: I had no idea what to expect going into Barbie. I had no interest in seeing a movie about Barbie but was immediately sold on the highly talented Margot Robbie and the awesome Ryan Gosling. But I was still nervous that the comedy would be aimed strictly at women and would be difficult for a guy to enjoy.\\nReview_Url: /review/rw9201978/?ref_=tt_urv\", metadata={'source': '/review/rw9201978/?ref_=tt_urv', 'row': 71}), Document(page_content=\"Review_Date: 7 August 2023\\nAuthor: misscattik\\nRating: \\nReview_Title: No questions just answers\\nReview: The title of the review practically sums it all up. With the highest potential in style, aesthetics, cast and concept, the movie fails spectacularly when it comes to the deliverance of it's main idea. And it's not feminism that bothers, surely not, it's the artistic language in which the idea is told - harsh, manipulative, abusive, straightforward and unkind. Instead of aspiring the audience to think and reflect, it shoves the manifestations down your throat, and in monologues that are generally painfully awkward to watch.\\nReview_Url: /review/rw9201978/?ref_=tt_urv\", metadata={'source': '/review/rw9201978/?ref_=tt_urv', 'row': 72}), Document(page_content='Review_Date: 23 July 2023\\nAuthor: acdc_mp3\\nRating: 9\\nReview_Title: A really fun time\\nReview: Weeks ago I heard that there was going to be a Barbie movie coming out and my immediate first thought was \"Oh, God.\" I then forgot about it and then saw the trailer for it when we went to see the new Indiana Jones movie. I always enjoy seeing Margot Robbie when I can and Ryan Gosling looked like he was going to bring some humor to the movie, so when my wife asked if I wanted to see it, I said SURE! I\\'m glad I did.\\nReview_Url: /review/rw9201978/?ref_=tt_urv', metadata={'source': '/review/rw9201978/?ref_=tt_urv', 'row': 73}), Document(page_content='Review_Date: 20 July 2023\\nAuthor: moriumemoltre\\nRating: 6\\nReview_Title: Great acting but why this movie?\\nReview: I was really surprised about how much i liked Ryan Gosling in this. I had totally forgot about his comedic talent and timing. The movie works. There is definitely a moral message in this, even though I believe the majority of viewers will be too distracted by Margot Robbie and Ryan Goslings great performances and all of the comedy elements in this and the fact that the script is hardly worth being filmed. I feel like with a different script they could have created something truly great.\\nReview_Url: /review/rw9201978/?ref_=tt_urv', metadata={'source': '/review/rw9201978/?ref_=tt_urv', 'row': 74})]\n"
          ]
        }
      ]
    },
    {
      "cell_type": "code",
      "source": [
        "assert len(data) == 75"
      ],
      "metadata": {
        "id": "26SZD9zb3luR"
      },
      "execution_count": 20,
      "outputs": []
    },
    {
      "cell_type": "markdown",
      "source": [
        "Now that we have collected our review information into a loader - we can go ahead and chunk the reviews into more manageable pieces.\n",
        "\n",
        "We'll be leveraging the `RecursiveCharacterTextSplitter` for this task today.\n",
        "\n",
        "While splitting our text seems like a simple enough task - getting this correct/incorrect can have massive downstream impacts on your application's performance.\n",
        "\n",
        "You can read the docs here:\n",
        "- [RecursiveCharacterTextSplitter](https://python.langchain.com/docs/modules/data_connection/document_transformers/text_splitters/recursive_text_splitter)\n",
        "\n",
        "We want to split our documents into 1000 character length chunks, with 100 characters of overlap.\n",
        "\n",
        "> ### HINT:\n",
        ">It's always worth it to check out the LangChain source code if you're ever in a bind - for instance, if you want to know how to transform a set of documents, check it out [here](https://github.com/langchain-ai/langchain/blob/5e9687a196410e9f41ebcd11eb3f2ca13925545b/libs/langchain/langchain/text_splitter.py#L268C18-L268C18)"
      ],
      "metadata": {
        "id": "_CTameZZ0r76"
      }
    },
    {
      "cell_type": "code",
      "source": [
        "from langchain.text_splitter import RecursiveCharacterTextSplitter\n",
        "\n",
        "text_splitter = RecursiveCharacterTextSplitter(\n",
        "    chunk_size = 1000, # the character length of the chunk\n",
        "    chunk_overlap = 100, # the character length of the overlap between chunks\n",
        "    length_function = len, # the length function\n",
        ")"
      ],
      "metadata": {
        "id": "uEgcUVtl00Xm"
      },
      "execution_count": 21,
      "outputs": []
    },
    {
      "cell_type": "code",
      "source": [
        "documents = text_splitter.transform_documents(data) ### YOUR CODE HERE"
      ],
      "metadata": {
        "id": "y9RJUiUD2gS5"
      },
      "execution_count": 22,
      "outputs": []
    },
    {
      "cell_type": "code",
      "source": [
        "print(documents)"
      ],
      "metadata": {
        "id": "w-oWu5XT3IG4",
        "outputId": "d60a5497-d2de-4dec-8d29-fbb592fc7399",
        "colab": {
          "base_uri": "https://localhost:8080/"
        }
      },
      "execution_count": 23,
      "outputs": [
        {
          "output_type": "stream",
          "name": "stdout",
          "text": [
            "[Document(page_content='Review_Date: 21 July 2023\\nAuthor: LoveofLegacy\\nRating: 6\\nReview_Title: Beautiful film, but so preachy\\nReview: Margot does the best with what she\\'s given, but this film was very disappointing to me. It was marketed as a fun, quirky satire with homages to other movies. It started that way, but ended with over-dramatized speeches and an ending that clearly tried to make the audience feel something, but left everyone just feeling confused. And before you say I\\'m a crotchety old man, I\\'m a woman in my 20s, so I\\'m pretty sure I\\'m this movie\\'s target audience. The saddest part is there were parents with their kids in the theater that were victims of the poor marketing, because this is not a kid\\'s movie. Overall, the humor was fun on occasion and the film is beautiful to look at, but the whole concept falls apart in the second half of the film and becomes a pity party for the \"strong\" woman.\\nReview_Url: /review/rw9201978/?ref_=tt_urv', metadata={'source': '/review/rw9201978/?ref_=tt_urv', 'row': 0}), Document(page_content='Review_Date: 22 July 2023\\nAuthor: imseeg\\nRating: 7\\nReview_Title: 3 reasons FOR seeing it and 1 reason AGAINST.\\nReview: The first reason to go see it:\\nReview_Url: /review/rw9201978/?ref_=tt_urv', metadata={'source': '/review/rw9201978/?ref_=tt_urv', 'row': 1}), Document(page_content='Review_Date: 22 July 2023\\nAuthor: Natcat87\\nRating: 6\\nReview_Title: Too heavy handed\\nReview: As a woman that grew up with Barbie, I was very excited for this movie. I was curious to see how they would evolve the \"stereotypical Barbie\" into something more. But the messaging in this movie was so heavy handed that it completely lost the plot. I consider myself a proponent of gender equality, and this ain\\'t the way to get it.\\nReview_Url: /review/rw9201978/?ref_=tt_urv', metadata={'source': '/review/rw9201978/?ref_=tt_urv', 'row': 2}), Document(page_content=\"Review_Date: 31 July 2023\\nAuthor: ramair350\\nRating: 10\\nReview_Title: As a guy I felt some discomfort, and that's ok.\", metadata={'source': '/review/rw9201978/?ref_=tt_urv', 'row': 3}), Document(page_content='Review: As much as it pains me to give a movie called \"Barbie\" a 10 out of 10, I have to do so. It is so brilliantly handled and finely crafted, I have to give the filmakers credit. Yes, I am somewhat conservative person and former law enforcement officer. I\\'m a guy. I like guy things. Hell I even enjoyed the Battleship movie a few years ago (an absolutely ridiculous but fun romp of an action film). But I also like to experience other perspectives. And man oh man does this movie deliver that in spades - pretty much encapsulated everything my wife has tried to convey about her entire career and life experience wrapped up into two hours! The humor, the sets, the acting, and the ability to weave the current narrative into the story was just perfect. I don\\'t agree with some of the points of the movie, but again, that\\'s ok. This movie wasn\\'t designed to give a balanced perspective of men versus women; it is a no-holds-barred unapologetic crazy ride of a rant about the real issues that', metadata={'source': '/review/rw9201978/?ref_=tt_urv', 'row': 3}), Document(page_content='versus women; it is a no-holds-barred unapologetic crazy ride of a rant about the real issues that women have faced since they were \"allowed\" to have \"real jobs\" and do the same things as men. Give me a well done film that is a blast to watch, that makes you think, and that was done from a place of creativity, passion, and attention to detail, and I\\'ll call it what it is: a 10 out of 10 masterpiece.', metadata={'source': '/review/rw9201978/?ref_=tt_urv', 'row': 3}), Document(page_content='Review_Url: /review/rw9201978/?ref_=tt_urv', metadata={'source': '/review/rw9201978/?ref_=tt_urv', 'row': 3}), Document(page_content='Review_Date: 24 July 2023\\nAuthor: heatherhilgers\\nRating: 9\\nReview_Title: A Technicolor Dream\\nReview: Wow, this movie was a love letter to cinema. From the Kubrick reference at the opening, to the soundstage being 100% real - no cgi for the sets. There were dance sequences like in the olden days (think Grease) and the costuming , wow the costuming. Greta Gerwig dug deep to make this masterpiece using all of her technical chops along the way. The casting director also nailed it, everyone was wonderful.\\nReview_Url: /review/rw9201978/?ref_=tt_urv', metadata={'source': '/review/rw9201978/?ref_=tt_urv', 'row': 4}), Document(page_content=\"Review_Date: 21 July 2023\\nAuthor: G-Joshua-Benjamin\\nRating: 6\\nReview_Title: My mom and I saw this yesterday. Here are my thoughts.\\nReview: I don't know if I put spoilers in here. I am super worn out. Haha So I will just put that I did.\\nReview_Url: /review/rw9201978/?ref_=tt_urv\", metadata={'source': '/review/rw9201978/?ref_=tt_urv', 'row': 5}), Document(page_content='Review_Date: 21 July 2023\\nAuthor: Sleepin_Dragon\\nRating: 8\\nReview_Title: Well this really did come as a surprise.\\nReview: It pains me to say it, but I enjoyed this movie so much more then I was expecting to, musical numbers, humour, there truly is something for the whole family yo enjoy.\\nReview_Url: /review/rw9201978/?ref_=tt_urv', metadata={'source': '/review/rw9201978/?ref_=tt_urv', 'row': 6}), Document(page_content='Review_Date: 20 July 2023\\nAuthor: portraitofaladyonfire\\nRating: 6\\nReview_Title: Brilliant observations, but social depth is missing\\nReview: Greta Gerwig and Noah Baumbach have a knack for incorporating the many little observations of life, whether funny or deeply interpersonal, into a screenplay. Gerwig manages to direct them with great visuals and clever transitions.\\nReview_Url: /review/rw9201978/?ref_=tt_urv', metadata={'source': '/review/rw9201978/?ref_=tt_urv', 'row': 7}), Document(page_content=\"Review_Date: 24 July 2023\\nAuthor: coxaneesa\\nRating: 8\\nReview_Title: It was depressing\\nReview: I thought this would be so much different. The ending made me feel sad and empty. Ken and Barbie don't end up together and they made Ken seem like a complete idiot. Actually they presented men as being dumb throughout the whole movie. And I'm not a man but that's just not true. It was depressing and sad and never the way Barbie was created for. I know a lot of people won't agree with me and that's okay but it was just pointless going to see it. The only good thing is that the Barbie aesthetic was beautifully done.\\nReview_Url: /review/rw9201978/?ref_=tt_urv\", metadata={'source': '/review/rw9201978/?ref_=tt_urv', 'row': 8}), Document(page_content=\"Review_Date: 19 July 2023\\nAuthor: hamsterination\\nRating: 6\\nReview_Title: It could have been so much better...\\nReview: The film's universe and settings are fantastic. The casting is really good too, with Gosling excelling in the role of Ken.\\nReview_Url: /review/rw9201978/?ref_=tt_urv\", metadata={'source': '/review/rw9201978/?ref_=tt_urv', 'row': 9}), Document(page_content='Review_Date: 19 July 2023\\nAuthor: HabibieHakim123\\nRating: 8\\nReview_Title: Barbie Is A Weirdly Fun Movie!\\nReview: 8.5/10', metadata={'source': '/review/rw9201978/?ref_=tt_urv', 'row': 10}), Document(page_content='While i\\'m not so sure at first, the movie kept getting even more fun, entertaining, and definitely better, also surprisingly deal with a legit serious stuff, Barbie is a weirdly fun movie that fills with this very interesting concept, definitely the first time that\\'s ever done, Greta Gerwig has created this whole new style of filmmaking specifically for Barbie, from the intentionally weird yet creative editing, some awkward and cringe scene, i found the comedy so funny instead of cringe, Barbie is one of the most original movie of the year and also one of the most original movie i\\'ve seen in a while, we all know Margot Robbie and Ryan Gosling is gonna carry the movie and they are, but Will Ferrell, Simu Liu, and the whole rest of the cast were also great and entertaining, the soundtrack was just great, except Nicki Minaj and Ice Spice \"Barbie World\" song that are just absolutely terrible, but Billie Eilish \"What Was I Made For?\" tune that kept haunting in the background until it', metadata={'source': '/review/rw9201978/?ref_=tt_urv', 'row': 10}), Document(page_content='but Billie Eilish \"What Was I Made For?\" tune that kept haunting in the background until it finally get the perfect scene to played it was really the best thing because that song was just beautiful and emotional, anyway, Barbie is a lot of fun, while there is still some noticeable flawed, most of them i found it funny, entertaining, colourful, creative, and fun, pure fun, it\\'s something that i probably will love it even more the second time i see it, but as of right now, Barbie was a good time, definitely recommended and with this movie somehow it\\'s actually possible to have a live-action Barbie movie, all you need to have is a good writer, good director, and good cast, and they delivers mostly.', metadata={'source': '/review/rw9201978/?ref_=tt_urv', 'row': 10}), Document(page_content='Review_Url: /review/rw9201978/?ref_=tt_urv', metadata={'source': '/review/rw9201978/?ref_=tt_urv', 'row': 10}), Document(page_content=\"Review_Date: 20 July 2023\\nAuthor: fscsgxp\\nRating: 6\\nReview_Title: Amazing Cast & Set, but the political message was too strong\\nReview: I've been excited for this movie for over a year. The casting was perfect and the acting was amazing! The set was next level, the tiny details were all there and even the highest barbie fan couldn't ask for anything more from it. It is PERFECTION.\\nReview_Url: /review/rw9201978/?ref_=tt_urv\", metadata={'source': '/review/rw9201978/?ref_=tt_urv', 'row': 11}), Document(page_content='Review_Date: 20 July 2023\\nAuthor: MissSimonetta\\nRating: 4\\nReview_Title: The marketing was more entertaining than the actual movie\\nReview: I went to see this today, everyone in my group dressed in pink and ready to at least be entertained by pastel-colored camp for two hours. BARBIE kind of succeeds there: I loved the costuming and sets of Barbieland, and Margot Robie is such a fantastic actress, the perfect embodiment of the optimistic, she-can-do-it-all Barbie. Ryan Gosling was a scene-stealer with his horse obsession and faux mink coat.\\nReview_Url: /review/rw9201978/?ref_=tt_urv', metadata={'source': '/review/rw9201978/?ref_=tt_urv', 'row': 12}), Document(page_content='Review_Date: 19 July 2023\\nAuthor: jpismyname\\nRating: 8\\nReview_Title: Fun and surprisingly touching\\nReview: I was honestly doubting this movie at first, but surprisingly I find myself really liking it quite a lot.\\nReview_Url: /review/rw9201978/?ref_=tt_urv', metadata={'source': '/review/rw9201978/?ref_=tt_urv', 'row': 13}), Document(page_content=\"Review_Date: 29 July 2023\\nAuthor: cmdown-50506\\nRating: 9\\nReview_Title: Now I am become Barbie Girl, the enjoyer of Barbie worlds\\nReview: I have been waiting for this to release for so long and I finally got to watch it today. I absolutely loved it! It was fun, it had Margot Robbie (and extra stuff for Tarantino's out there if you know what I mean) And it had some absolute bangers! What more could you want from a new summer classic?\\nReview_Url: /review/rw9201978/?ref_=tt_urv\", metadata={'source': '/review/rw9201978/?ref_=tt_urv', 'row': 14}), Document(page_content=\"Review_Date: 23 July 2023\\nAuthor: Revuer223\\nRating: 6\\nReview_Title: Could Have Been Great. 2nd Half Brings It Down.\\nReview: The quality, the humor, and the writing of the movie is fun for a while. It's quirky and it's unique. When they get into the weeds and try to explore deeper themes, the movie is a miss. The middle expositional phase of the movie, I must say, is a bore.\\nReview_Url: /review/rw9201978/?ref_=tt_urv\", metadata={'source': '/review/rw9201978/?ref_=tt_urv', 'row': 15}), Document(page_content=\"Review_Date: 4 August 2023\\nAuthor: thePopcornExplorer\\nRating: 9\\nReview_Title: I don't see how it was preachy\\nReview: In this day and age with society overall becoming more and more polarized and our leaders around the world doing nothing to improve dialogue, it seems that people became broken records. Now everything in the movies and TV shows is perceived as preachy, not everything is a conspiracy, people need to consider that movies and TV shows at its core, and specially the good ones, are about sharing perspectives and allow the audience, if their minds are opened to it, to acknowledge all sides of the stories.\\nReview_Url: /review/rw9201978/?ref_=tt_urv\", metadata={'source': '/review/rw9201978/?ref_=tt_urv', 'row': 16}), Document(page_content='Review_Date: 26 July 2023\\nAuthor: aherdofbeautifulwildponies\\nRating: 6\\nReview_Title: A Hot Pink Mess\\nReview: Before making Barbie (2023),\\nReview_Url: /review/rw9201978/?ref_=tt_urv', metadata={'source': '/review/rw9201978/?ref_=tt_urv', 'row': 17}), Document(page_content='Review_Date: 22 July 2023\\nAuthor: finnconnelly-63017\\nRating: 10\\nReview_Title: Ken out of ten', metadata={'source': '/review/rw9201978/?ref_=tt_urv', 'row': 18}), Document(page_content=\"Review: Wow. I did not see this masterpiece coming. And that's not a joke. Somehow, Greta Gerwig took Barbie, and made a movie that tackles some really tough social issues....well? It's crazy. But wow, does it work. The story is very mature, thinker of a plot. Once you're done laughing your butt off, you'll get really emotional. The production design is so on point. The whole movie is pink everything, but it's never polarizing. All the shades melt together in a very pleasing way. And of course the cast! Margot Robbie was born to play Barbie, and she hits a home run, but Ryan Gosling. This dude rocks as Ken. He knocked it all the way around the world and hit himself in the back of the head. He steals every scene he's in, and I would be so on board with a Ken spin-off. America Ferrara and Simu Liu are also great in their respective roles, but the cast overall is just perfect. Overall, Barbie is probably the best movie based off a toy (sorry LEGO Movies) and an overall fantastic time at\", metadata={'source': '/review/rw9201978/?ref_=tt_urv', 'row': 18}), Document(page_content='is probably the best movie based off a toy (sorry LEGO Movies) and an overall fantastic time at the movies.', metadata={'source': '/review/rw9201978/?ref_=tt_urv', 'row': 18}), Document(page_content='Review_Url: /review/rw9201978/?ref_=tt_urv', metadata={'source': '/review/rw9201978/?ref_=tt_urv', 'row': 18}), Document(page_content='Review_Date: 21 July 2023\\nAuthor: andermic18\\nRating: 6\\nReview_Title: No Direction', metadata={'source': '/review/rw9201978/?ref_=tt_urv', 'row': 19}), Document(page_content=\"Review: The movie was very funny and really enjoyable to laugh at with the full theatre. However, the messages of the movie were the problem. I was never really sure what I was supposed to take away, there was nothing about finding equality or love it was all about how every man cat falls every woman or women can't be anything. It was really silly because there was no accurate reflection of America at any single point except for Barbie getting called a Fascist for no reason by a 14 year old. I enjoyed how they called out women for hating women and how they really tried to preach empowerment and the ability to be anything, but at the same time there was so much resentment and they ended the movie by reinstating hate. The majority of the movie was hating men as much as possible. That's just whatever because what really matters is the story. Well it fell short on that mark and it was really disappointing. The pacing was horrible, the villain won and was pretty irrelevant in the long run,\", metadata={'source': '/review/rw9201978/?ref_=tt_urv', 'row': 19}), Document(page_content=\"disappointing. The pacing was horrible, the villain won and was pretty irrelevant in the long run, the story was all over the place, and it is totally not for kids. I think the worst part is how disappointed I was at the opportunity to really make something special and it just wasn't. 6 points for all the laughs and fun I had and I would expect 6-7 to be an appropriate rating.\", metadata={'source': '/review/rw9201978/?ref_=tt_urv', 'row': 19}), Document(page_content='Review_Url: /review/rw9201978/?ref_=tt_urv', metadata={'source': '/review/rw9201978/?ref_=tt_urv', 'row': 19}), Document(page_content='Review_Date: 20 July 2023\\nAuthor: Genti25\\nRating: 8\\nReview_Title: You are Kenough\\nReview: This movie is so much fun. It starts off really strong although the story does move away from \"Barbieland\" sooner than I would have liked. Nonetheless, it regains its footing with the final act in particular and I could not stop laughing at Ryan Gosling\\'s portrayal of Ken. That song will forever be stuck in my head.\\nReview_Url: /review/rw9201978/?ref_=tt_urv', metadata={'source': '/review/rw9201978/?ref_=tt_urv', 'row': 20}), Document(page_content=\"Review_Date: 19 July 2023\\nAuthor: tm-sheehan\\nRating: 6\\nReview_Title: Didn't hit my pink spot\\nReview: My Review - Barbie\\nIn Cinemas now\\nMy Rating 6.5/10\\nReview_Url: /review/rw9201978/?ref_=tt_urv\", metadata={'source': '/review/rw9201978/?ref_=tt_urv', 'row': 21}), Document(page_content='Review_Date: 23 July 2023\\nAuthor: herrcarter-92161\\nRating: 5\\nReview_Title: Somewhat of a Jumbled Mess\\nReview: My 15-year old daughter wrote the following review and posted it to my IMDB account.\\nReview_Url: /review/rw9201978/?ref_=tt_urv', metadata={'source': '/review/rw9201978/?ref_=tt_urv', 'row': 22}), Document(page_content='Review_Date: 19 July 2023\\nAuthor: andypaps101\\nRating: 8\\nReview_Title: \"Barbie\" - A Multifaceted Exploration of Femininity, Consumerism, and Existentialism\\nReview: I got free tickets for a preview and to be honest I was more than a little embarrassed to go. I did not tell a soul. As a cool middle aged gentleman if word got out this could have really affected my street cred.\\nReview_Url: /review/rw9201978/?ref_=tt_urv', metadata={'source': '/review/rw9201978/?ref_=tt_urv', 'row': 23}), Document(page_content=\"Review_Date: 23 July 2023\\nAuthor: subxerogravity\\nRating: 8\\nReview_Title: It's like G.I Joe...For girls! Seriously, and I love it for that!\\nReview: I mean, Margo Robbie as Barbie just made perfect sense, but I really wanted to see the movie when I herd that Ryian Gosling was going to be Ken, I just thought that would be hilarious and I was right!\\nReview_Url: /review/rw9201978/?ref_=tt_urv\", metadata={'source': '/review/rw9201978/?ref_=tt_urv', 'row': 24}), Document(page_content='Review_Date: 24 July 2023\\nAuthor: lokicola\\nRating: 6\\nReview_Title: Strong Start... and That\\'s It\\nReview: I walked out of the theatre thinking, \"Yeah, I had a good time in that movie\". But as the day went on I kind had that \"Ok, that kebab probably wasn\\'t a good idea.\"\\nReview_Url: /review/rw9201978/?ref_=tt_urv', metadata={'source': '/review/rw9201978/?ref_=tt_urv', 'row': 25}), Document(page_content=\"Review_Date: 21 July 2023\\nAuthor: masonsaul\\nRating: 10\\nReview_Title: The best version of itself\\nReview: Barbie is everything expected of it and so much more, a self aware and meta comedy made for fans and newcomers alike that's also incredibly profound, layered and really funny. It's the best version of itself and just immensely satisfying that the Barbie movie that got made on this scale is so weird and unique.\\nReview_Url: /review/rw9201978/?ref_=tt_urv\", metadata={'source': '/review/rw9201978/?ref_=tt_urv', 'row': 26}), Document(page_content='Review_Date: 19 July 2023\\nAuthor: dreopdreef\\nRating: 6\\nReview_Title: Not so unique as expected\\nReview: The concept of a Barbie movie is really unique and got me all exited. But unfortunately to me it delivers the same messages that we keep hearing as of lately.\\nReview_Url: /review/rw9201978/?ref_=tt_urv', metadata={'source': '/review/rw9201978/?ref_=tt_urv', 'row': 27}), Document(page_content='Review_Date: 1 August 2023\\nAuthor: zkonedog\\nRating: 10\\nReview_Title: An Amazingly Perfect Blend Of Social Satire & Fun\\nReview: For a film like \"Barbie\" to succeed, every aspect had to come together perfectly. It needed to consummately balance satire with fun, the casting had to be spot-on, and the writing/directing required to pull off such a feat would need to be exquisite. Somewhat remarkably, that is exactly what writer/director Greta Gerwig pulls off here to create the best movie of summer 2023.\\nReview_Url: /review/rw9201978/?ref_=tt_urv', metadata={'source': '/review/rw9201978/?ref_=tt_urv', 'row': 28}), Document(page_content=\"Review_Date: 19 July 2023\\nAuthor: mark-217-307033\\nRating: 6\\nReview_Title: Fun film whose script falls in on itself\\nReview: Margot Robbie's performance is perfect, and no other actor could've embodied the character as well as she does. However, Ryan Gosling is the film-stealer. I often forget his comedic talent, and he's given a lot of room to flex it in this. A cleverly executed Matchbox Twenty joke is particularly memorable.\\nReview_Url: /review/rw9201978/?ref_=tt_urv\", metadata={'source': '/review/rw9201978/?ref_=tt_urv', 'row': 29}), Document(page_content=\"Review_Date: 19 July 2023\\nAuthor: anjamulder\\nRating: 8\\nReview_Title: not for everyone\\nReview: This is very much a movie that will get devided opinions on it, my cousin said well this is two hours of my life i will never get back, and me? I left the theatre in such a good mood. It was the sense of humor for me, laughed so hard. Specially Ryan Gossling was sooooo good and funny, many familiar faces to spot also. And margot robbie come on... the perfect casting for Barbie. I also have to say, the way they created Barbie land was so amazing, it just makes you just want to there. I don't really have anything bad to say about this movie. I can understand not everyone will love it. But i am sure it is a iconic film already.\\nReview_Url: /review/rw9201978/?ref_=tt_urv\", metadata={'source': '/review/rw9201978/?ref_=tt_urv', 'row': 30}), Document(page_content='Review_Date: 19 July 2023\\nAuthor: AvionPrince16\\nRating: 6\\nReview_Title: Barbie land and reality', metadata={'source': '/review/rw9201978/?ref_=tt_urv', 'row': 31}), Document(page_content='Review: Im not really disappointed or love the movie to be honest. It was kind of weird and strange at the beginning: we understand it later because we are in the Barbie world. So they played with the culture reference of the barbie, the dolls and what they represent: an ideal world with where the womans are in power. Things will get pretty normal after they enter the real world and all the problems: sexual remark, womens and their place in society (the inequality with mens.) I was pretty sure they will talk about the problems with womans and their complex because of Barbie and the perfect women she is and how this is contrasted with the real world. Its pretty obvious that they will talk about it. I love also how Ken will also notice how mens are more powerful in the real world: its like everyone see that reality is not really what they perceived themselves in their own reality and power will shift also later in Barbie Land. I understand why they act like this and stuff but i didnt', metadata={'source': '/review/rw9201978/?ref_=tt_urv', 'row': 31}), Document(page_content='will shift also later in Barbie Land. I understand why they act like this and stuff but i didnt really get into the movie to be honest: i only identify myself when they talked about society and business but all the musical things, the choregraphy and even the morality was kind of superficial. But i enjoyed that Barbie realised the problems of our world and compare to her own. Some moments was funny and some more serious or drama sometimes even if its pretty soft because we are in Barbie Land. I mean i spend a great time but it was kind of ok. And i still think its a great Barbie movie: the task was not easy to represent that world but i enjoyed the set design, the colors, the camera movements. I think people who played with Barbie dolls or just know the universe will be happy; they have a lot of references to the world and a lot of Barbie references to the dolls and the differents clothes and the impact of her in society. Some moments were also absurd ( the fight with all the Kens).', metadata={'source': '/review/rw9201978/?ref_=tt_urv', 'row': 31}), Document(page_content='and the impact of her in society. Some moments were also absurd ( the fight with all the Kens). Its good anyway.', metadata={'source': '/review/rw9201978/?ref_=tt_urv', 'row': 31}), Document(page_content='Review_Url: /review/rw9201978/?ref_=tt_urv', metadata={'source': '/review/rw9201978/?ref_=tt_urv', 'row': 31}), Document(page_content='Review_Date: 21 July 2023\\nAuthor: MaskedMinty\\nRating: 5\\nReview_Title: Preach Preach Preach', metadata={'source': '/review/rw9201978/?ref_=tt_urv', 'row': 32}), Document(page_content=\"Review: Let me start by saying that I'm by no means a conservative or traditional woman. I believe that inequality for women still is rampant even in first world countries and that we go through many problems. But damn...this movie is so corporate and shallow. It's clearly ordered and tailored by executives at Mattel to rebrand and sell more dolls. The movie starts well and has the potential of becoming something very good, but then it just goes downhill: the premise of the owner's feeling being projected onto the doll was going to lead to a very nice build up about a person's life journey and then Barbie and Ken go to the human world and cue in the speeches and preaching. This movie suffers from a bad case of showing and not telling, they keep repeating the same dialogues: patriarchy bad patriarchy bad patriarchy bad sexism sexism sexism, not even one time but MULTIPLE TIMES. These characters go into random rants like its a ted talk! The chemistry between the mother and daughter is\", metadata={'source': '/review/rw9201978/?ref_=tt_urv', 'row': 32}), Document(page_content='go into random rants like its a ted talk! The chemistry between the mother and daughter is absolutely nonexistent and their relationship is so cringe, You cant root for them or feel their feelings at all. Barbie should have understood how Kens had been feeling in the Barbieland the whole time which is a mimic of how many women are still treated in the society: just existing for the gaze of a woman (man). Yet what do they do? They manipulate them (with a super nonsense plan) and force them back to their original position while she gives him a half assed apology that could have been done better and end up to a more accurate point about equality. (I guess this is again meta and a reflection of how women are pitted against each other while people in charge benefit from that but its so badly done that it feels meh.)', metadata={'source': '/review/rw9201978/?ref_=tt_urv', 'row': 32}), Document(page_content='I can imagine that in the boardroom they went through a discussion like this: People are going to think this is a feel good movie so we need to give them something deeper but also lets make it absurd and fast paced so that we can finish the plot quickly and also jump on the \"not taking itself serious\" bandwagon and also market these dolls again in the age of smartphone kids. The only reason this movie gets at 5 from me is the humor, which sometimes becomes very meta and creative and Margot Robbie and Ryan Gosling have acted very well. Besides this, they could have just given us a simple feel good movie and I would have respected the creators more. Pass.\\nReview_Url: /review/rw9201978/?ref_=tt_urv', metadata={'source': '/review/rw9201978/?ref_=tt_urv', 'row': 32}), Document(page_content=\"Review_Date: 21 July 2023\\nAuthor: imdbmovieguy\\nRating: \\nReview_Title: Honestly - not funny and light enough\\nReview: I really enjoyed the first 20 minutes of the movie. It was very upbeat, positive and light. However, things soon became negative about 20 - 25 minutes into the movie. I couldn't stand it. Barbie's world and attitude was a constant bummer. Ken's attitude was sour. For the next hour (and more) the movie just lived in negativity.\\nReview_Url: /review/rw9201978/?ref_=tt_urv\", metadata={'source': '/review/rw9201978/?ref_=tt_urv', 'row': 33}), Document(page_content='Review_Date: 19 July 2023\\nAuthor: faeez_rizwan\\nRating: 9\\nReview_Title: Wildly Pink\\nReview: Barbie Movie Review\\nReview_Url: /review/rw9201978/?ref_=tt_urv', metadata={'source': '/review/rw9201978/?ref_=tt_urv', 'row': 34}), Document(page_content='Review_Date: 4 August 2023\\nAuthor: evanston_dad\\nRating: 8\\nReview_Title: Smart and Winning\\nReview: My wife and I were two of the apparently 200,000 or so people who Barbenheimered Greta Gerwig\\'s and Chritopher Nolan\\'s hot topic movies on opening weekend. \"Oppenheimer\" was first, a boring slog of history in which a bunch of white men blathering at each other for three hours resulted in the creation of weapons that could wipe out humanity. \"Barbie\" came in the evening, a fresh breeze of humanity to clear away Nolan\\'s emotional constipation.\\nReview_Url: /review/rw9201978/?ref_=tt_urv', metadata={'source': '/review/rw9201978/?ref_=tt_urv', 'row': 35}), Document(page_content=\"Review_Date: 21 July 2023\\nAuthor: arslanmanzoor123\\nRating: 6\\nReview_Title: Quite disappointing\\nReview: Some friends freaking out that I went to see Barbie lol I mean I mentioned I went coz my sister insisted since ages. Anyway the movie was bad. These days, every other director and producer wants to convey messages about women rights and feminism through whatever platform possible and this movie was a perfect example of that with sheer cringe to convey all that. I wished I had gotten the ticket for Oppenheimer in the same timings as my sister's Barbie show. Other than that, the acting done by Margot Robbie and Ryan Gosling was great so can't take that away from them. They did justice to their roles.\\nReview_Url: /review/rw9201978/?ref_=tt_urv\", metadata={'source': '/review/rw9201978/?ref_=tt_urv', 'row': 36}), Document(page_content='Review_Date: 23 July 2023\\nAuthor: eoinageary\\nRating: 8\\nReview_Title: I am Kenough\\nReview: So I went into the movie with little to no expectations and I was pleasantly impressed with the movie overall.\\nReview_Url: /review/rw9201978/?ref_=tt_urv', metadata={'source': '/review/rw9201978/?ref_=tt_urv', 'row': 37}), Document(page_content='Review_Date: 25 July 2023\\nAuthor: spika13\\nRating: 6\\nReview_Title: Too overrated\\nReview: Its like watching at \"Truman\\'s show\" but all the set it\\'s pink color with a hint of extreme feminist ideas. I grew up with barbie dolls and I felt very disappointed, I was expecting a different kind of story, the ending was the worst. I think the message should be more with the real feminist concept of Simone de Bouvoir, we all deserve the same rights. In the end Instead of just Barbie Land they should changed as; Barbie and Ken Land.\\nReview_Url: /review/rw9201978/?ref_=tt_urv', metadata={'source': '/review/rw9201978/?ref_=tt_urv', 'row': 38}), Document(page_content=\"Review_Date: 23 July 2023\\nAuthor: Anurag-Shetty\\nRating: 10\\nReview_Title: A wholesome delight!\\nReview: Barbie is based on Mattel's iconic plastic dolls of the same name. Barbie(Margot Robbie) lives a very happy life in Barbie Land, along with her fellow Barbies, Ken(Ryan Gosling) & his fellow Kens. Suddenly, Barbie goes through an existential crisis that makes her question Barbie Land & the truth of her existence.\\nReview_Url: /review/rw9201978/?ref_=tt_urv\", metadata={'source': '/review/rw9201978/?ref_=tt_urv', 'row': 39}), Document(page_content='Review_Date: 24 July 2023\\nAuthor: GhostFoxX\\nRating: 6\\nReview_Title: Misleading.', metadata={'source': '/review/rw9201978/?ref_=tt_urv', 'row': 40}), Document(page_content=\"Review: I personally expected the movie to be fun and adventurous. Correct me if I'm wrong, but isn't that what it is supposed to be? It's literally a movie about Barbie. Instead, it felt more like an agent of woke culture, and basically Mattel's (the company that produces Barbie dolls) way of capitalizing the emotional aspect of the cinephiles to make their business more popular and trendier. It continuously tried to portray the fact that Mattel is no more producing white barbie dolls, it is now producing dolls of all colors and races. Well, that is definitely a good thing, but making most of the movie focus on that aspect felt very boring and wrong. If they didn't quite make a movie that is fun and adventurous, why make the marketing events misleading? They could've just focused on the audience for whom it was made, rather than on the entire world through their absurdly irrelevant marketing events that made the world think that this movie is going to be all about fun and adventure.\", metadata={'source': '/review/rw9201978/?ref_=tt_urv', 'row': 40}), Document(page_content='events that made the world think that this movie is going to be all about fun and adventure. Sadly, it was not nearly as enjoyable as the misleading marketing made it seem.', metadata={'source': '/review/rw9201978/?ref_=tt_urv', 'row': 40}), Document(page_content='Review_Url: /review/rw9201978/?ref_=tt_urv', metadata={'source': '/review/rw9201978/?ref_=tt_urv', 'row': 40}), Document(page_content=\"Review_Date: 25 July 2023\\nAuthor: mr_bickle_the_pickle\\nRating: 8\\nReview_Title: Life in plastic, it's fantastic!\\nReview: It's an incredibly fun movie. Lots of laughs. Very campy over the top humour. But also surprisingly touching. My favourite scene of the movie is just rather a small quiet moment where Barbie is observing every day life and tells an old woman how beautiful she is. Margot Robbie shines in the lead role. Ryan Gosling clearly was having a lot of fun with the role, but don't sleep on Michael Cera as Allan. I know a lot of people say that Ryan Gosling is a scene stealer, but personally I thought Michael was.\\nReview_Url: /review/rw9201978/?ref_=tt_urv\", metadata={'source': '/review/rw9201978/?ref_=tt_urv', 'row': 41}), Document(page_content='Review_Date: 1 August 2023\\nAuthor: badreviewer\\nRating: 6\\nReview_Title: This Barbie is dissapointed.\\nReview: Yes. Day by day it becomes more obvious that now the movies are made just because of the income they generate and nothing else. Ok, Barbie itself was not a creative idea, I know. And actually I didn\\'t expect to see something unseen something unique in the first place, all in all it\\'s \"Barbie\".\\nReview_Url: /review/rw9201978/?ref_=tt_urv', metadata={'source': '/review/rw9201978/?ref_=tt_urv', 'row': 42}), Document(page_content=\"Review_Date: 24 July 2023\\nAuthor: brianjohnson-20043\\nRating: 4\\nReview_Title: This movie tries to be too much\\nReview: I wanted to like it. But I just didn't. The story wasn't very compelling to me because it seemed as if the entire point of much of the movie was to provide learning moments for viewers with some slapstick comedy and quick-delivery comedy. The story itself should nearly always be more important.\\nReview_Url: /review/rw9201978/?ref_=tt_urv\", metadata={'source': '/review/rw9201978/?ref_=tt_urv', 'row': 43}), Document(page_content=\"Review_Date: 21 July 2023\\nAuthor: rannynm\\nRating: 10\\nReview_Title: What A Film! I Was Ecstatic About Seeing Barbie And It Definitely Exceeded My Expectations By Far.\\nReview: What a film! I was ecstatic about seeing Barbie and it definitely exceeded my expectations by far. As much as I was excited, I was a bit scared that the stakes were too high; after all Barbie is an icon and a part of so many people's childhood. For a film like this it's very easy to create something corny, disappointing, or unappealing to viewers. I'm so glad that Gretta Gerwig stepped up to the plate and created an absolute masterpiece.\\nReview_Url: /review/rw9201978/?ref_=tt_urv\", metadata={'source': '/review/rw9201978/?ref_=tt_urv', 'row': 44}), Document(page_content=\"Review_Date: 23 July 2023\\nAuthor: Jeremy_Urquhart\\nRating: 8\\nReview_Title: Surprisingly good\\nReview: I think part of my brain rejects this for being a feature-length toy commercial, but it's a very small part of my brain (and that really wasn't where my mind was for the majority of the movie).\\nReview_Url: /review/rw9201978/?ref_=tt_urv\", metadata={'source': '/review/rw9201978/?ref_=tt_urv', 'row': 45}), Document(page_content=\"Review_Date: 23 July 2023\\nAuthor: jacquihives\\nRating: 6\\nReview_Title: I had no expectations but was still underwhelmed\\nReview: I loved barbie growing up, and even at 42 years old I couldn't wait to go see the movie! I didn't have any expectations because I had no idea how they could make a movie about barbie that's for adults and not kids. I adored Barbieland, but unfortunately they leave it behind so fast and with it they also leave behind everything good about bringing barbie to life in a movie! It got silly, had no storyline, was overly political and woke, man bashing and made men silly, and I really didn't care for the ending which is just as well because it was abrupt and crude.\\nReview_Url: /review/rw9201978/?ref_=tt_urv\", metadata={'source': '/review/rw9201978/?ref_=tt_urv', 'row': 46}), Document(page_content=\"Review_Date: 23 July 2023\\nAuthor: nethy-nho\\nRating: 10\\nReview_Title: Barbie is not a simple live action of a timeless doll\\nReview: But it is also in its smallest details, from the art direction, costumes, and any technical choice completely thought of referencing all Barbie generations and the like. A soundtrack that will take you from laughing to crying (yes, very musical moments, after all it is a Barbie movie), in addition to the hand-picked cast, Margot is impeccable and manages to express all her feelings, just with her eyes. Greta's direction and screenplay, just amazing, strong, emotional, empowering and very, very feminist, not only for the women who are already fighting for the cause, but to open everyone's eyes to a sisterhood.\\nReview_Url: /review/rw9201978/?ref_=tt_urv\", metadata={'source': '/review/rw9201978/?ref_=tt_urv', 'row': 47}), Document(page_content=\"Review_Date: 26 July 2023\\nAuthor: JPARM-IMDb\\nRating: 6\\nReview_Title: Expected more from Greta Gerwig\\nReview: Even though I'm not the target audience for this movie, I thought Barbie might impress me due to Greta Gerwig's previous works but I'm disappointed.\\nReview_Url: /review/rw9201978/?ref_=tt_urv\", metadata={'source': '/review/rw9201978/?ref_=tt_urv', 'row': 48}), Document(page_content='Review_Date: 10 August 2023\\nAuthor: adamjohns-42575\\nRating: 8\\nReview_Title: A sheer pleasure to watch.\\nReview: Barbie (2023) -\\nReview_Url: /review/rw9201978/?ref_=tt_urv', metadata={'source': '/review/rw9201978/?ref_=tt_urv', 'row': 49}), Document(page_content='Review_Date: 29 July 2023\\nAuthor: Vic_max\\nRating: 7\\nReview_Title: A lot like The Lego Movie - except for the 2nd half\\nReview: As a guy who never played with Barbie dolls, I was surprised to be caught up in the enthusiasm to see this movie; I purchased tickets well in advance when they first went on sale.\\nReview_Url: /review/rw9201978/?ref_=tt_urv', metadata={'source': '/review/rw9201978/?ref_=tt_urv', 'row': 50}), Document(page_content='Review_Date: 7 August 2023\\nAuthor: saimariejohnson\\nRating: 10\\nReview_Title: Wildly Entertaining.\\nReview: Barbie surprised me in all the best ways. It was funny, moving, inspirational, and all around ridiculously entertaining. I mean that with every sense of the implication to.\\nReview_Url: /review/rw9201978/?ref_=tt_urv', metadata={'source': '/review/rw9201978/?ref_=tt_urv', 'row': 51}), Document(page_content='Review_Date: 19 July 2023\\nAuthor: AvionPrince16\\nRating: 6\\nReview_Title: Barbie Land', metadata={'source': '/review/rw9201978/?ref_=tt_urv', 'row': 52}), Document(page_content='Review: Im not really disappointed or love the movie to be honest. It was kind of weird and strange at the beginning: we understand it later because we are in the Barbie world. So they played with the culture reference of the barbie, the dolls and what they represent: an ideal world with where the womans are in power. Things will get pretty normal after they enter the real world and all the problems: sexual remark, womens and their place in society (the inequality with mens.) I was pretty sure they will talk about the problems with womans and their complex because of Barbie and the perfect women she is and how this is contrasted with the real world. Its pretty obvious that they will talk about it. I love also how Ken will also notice how mens are more powerful in the real world: its like everyone see that reality is not really what they perceived themselves in their own reality and power will shift also later in Barbie Land. I understand why they act like this and stuff but i didnt', metadata={'source': '/review/rw9201978/?ref_=tt_urv', 'row': 52}), Document(page_content='will shift also later in Barbie Land. I understand why they act like this and stuff but i didnt really get into the movie to be honest: i only identify myself when they talked about society and business but all the musical things, the choregraphy and even the morality was kind of superficial. But i enjoyed that Barbie realised the problems of our world and compare to her own. Some moments was funny and some more serious or drama sometimes even if its pretty soft because we are in Barbie Land. I mean i spend a great time but it was kind of ok. And i still think its a great Barbie movie: the task was not easy to represent that world but i enjoyed the set design, the colors, the camera movements. Its good anyway.', metadata={'source': '/review/rw9201978/?ref_=tt_urv', 'row': 52}), Document(page_content='Review_Url: /review/rw9201978/?ref_=tt_urv', metadata={'source': '/review/rw9201978/?ref_=tt_urv', 'row': 52}), Document(page_content='Review_Date: 22 July 2023\\nAuthor: shadowtramp\\nRating: 5\\nReview_Title: More of a marketing flick\\nReview: The brilliant marketing is what led us tonight to pay for the tickets. The brilliance ends there.\\nReview_Url: /review/rw9201978/?ref_=tt_urv', metadata={'source': '/review/rw9201978/?ref_=tt_urv', 'row': 53}), Document(page_content=\"Review_Date: 22 July 2023\\nAuthor: lisacarlson50\\nRating: 10\\nReview_Title: Creatively Brilliant\\nReview: Brilliantly written by Greta Gerwig and Noah Baumbach. Everyone in this is fantastic. It's a wink at nostalgia and commentary on society. Never played with Barbies but my daughter did. Tribute to the inventor of Barbie, Ruth Handler. Helen Mirren narrates. Kate McKinnon almost steals the movie. Not a movie for little kids but most of the references will probably go over their heads. My girlfriend and I laughed out loud many times. It's about 20 minutes too long for my taste. The music is spot on. It's a perfect summer movie. Guess what? It has value and substance. Margot Robbie is not only gorgeous but more importantly, she's highly intelligent as actor and producer. This movie is going to make bank!\\nReview_Url: /review/rw9201978/?ref_=tt_urv\", metadata={'source': '/review/rw9201978/?ref_=tt_urv', 'row': 54}), Document(page_content='Review_Date: 22 July 2023\\nAuthor: DoNotComeToTheCinemaDepressed\\nRating: 10\\nReview_Title: 🏩 Possibly a Masterpiece? 💒\\nReview: I Understand that Some People are Going to Have Big Big Problems with Some of the Messaging within this Film. But Sometimes, in Life 😂, You Just Have to Go With It.\\nReview_Url: /review/rw9201978/?ref_=tt_urv', metadata={'source': '/review/rw9201978/?ref_=tt_urv', 'row': 55}), Document(page_content='Review_Date: 29 July 2023\\nAuthor: planktonrules\\nRating: 6\\nReview_Title: Good...not great\\nReview: \"Barbie\" is a movie that is setting all sorts of records, so it\\'s obvious that the film is touching many people. For some, it\\'s the fun of seeing a doll come to life, for others it\\'s the theme of empowerment that make the movie a big hit. As for me, I did like it and thought it was a pretty good movie...but it\\'s not for everyone.\\nReview_Url: /review/rw9201978/?ref_=tt_urv', metadata={'source': '/review/rw9201978/?ref_=tt_urv', 'row': 56}), Document(page_content='Review_Date: 9 August 2023\\nAuthor: L3MM3\\nRating: \\nReview_Title: Boring, mind-numbing drivel\\nReview: I do not usually write reviews, but this is beyond description. Last time I wrote a review it was for the absolutely horrible wrinkle in time. This is almost as bad. At least Gosling plays his part well, but the story is abysmal. If you can find anything else to do like watch paint dry, then yes please do. You will save your brain cells the agony of a painful slow ..... nearly two hours long this was mind-numbing storytelling at its mediocre worst. How many ways can I say do not go see it if you have a choice. See anything else but this exercise in horrendous cliches and exaggerated self-importance. If I could give it negative 10 stars I would.\\nReview_Url: /review/rw9201978/?ref_=tt_urv', metadata={'source': '/review/rw9201978/?ref_=tt_urv', 'row': 57}), Document(page_content='Review_Date: 27 July 2023\\nAuthor: sanadalsalt\\nRating: 10\\nReview_Title: Laugh, Reflect, Repeat: Exploring the Wonders of \\'Barbie\\'\\nReview: Oh my goodness, where do I even begin with \"Barbie\" (2023)? This film is an absolute delight and a true masterpiece that will leave you in awe. Directed by the incredibly talented Greta Gerwig and starring the stunning Margot Robbie as the iconic doll herself, \"Barbie\" is a cinematic experience like no other.\\nReview_Url: /review/rw9201978/?ref_=tt_urv', metadata={'source': '/review/rw9201978/?ref_=tt_urv', 'row': 58}), Document(page_content=\"Review_Date: 21 July 2023\\nAuthor: suf-54719\\nRating: 6\\nReview_Title: It's a silly movie\\nReview: The story feels like watching modern animated barbie movies in this past decade. If you lower your expectations, you gonna kinda enjoy it. The first 30 minutes is good, but the last 30 minutes feel rushed.\\nReview_Url: /review/rw9201978/?ref_=tt_urv\", metadata={'source': '/review/rw9201978/?ref_=tt_urv', 'row': 59}), Document(page_content='Review_Date: 21 July 2023\\nAuthor: meltingmel\\nRating: 10\\nReview_Title: 10/10!!!!!!!\\nReview: Wow. WOW!!!!\\nReview_Url: /review/rw9201978/?ref_=tt_urv', metadata={'source': '/review/rw9201978/?ref_=tt_urv', 'row': 60}), Document(page_content=\"Review_Date: 23 July 2023\\nAuthor: agjbull\\nRating: 6\\nReview_Title: Just a little empty\\nReview: I really wanted to enjoy this and I know that I am not the target audience but there were massive plot holes and no real flow. The film was very disjointed. Ryan Gosling as good as he is seemed to old to play Ken and Will Ferrell ruined every scene he was in. I just didn't get it, it seemed hollow artificial and hackneyed. A waste of some great talent. It was predictable without being reassuring and trying so hard to be woke in the most superficial way in that but trying to tick so many boxes it actually ticked none. Margo Robbie looks beautiful throughout, the costumes and the sets were amazing but the story was way too weak and didn't make much sense at all.\\nReview_Url: /review/rw9201978/?ref_=tt_urv\", metadata={'source': '/review/rw9201978/?ref_=tt_urv', 'row': 61}), Document(page_content='Review_Date: 20 July 2023\\nAuthor: mavigangi\\nRating: 10\\nReview_Title: A colorful love letter to human kind\\nReview: I cried, I laughed, I dance and I did sing too. What a joyful time I had at the movies watching Barbie. This is a movie to celebrate how diverse and complicated are the humans. The cinematography is a outstanding as well as the production design and the vestuary. The casting seems like made in heaven. I recommend this movie for 11+ years old. And if you have a teen at home, take her with you. Barbie goes from fun to introspection and I love a good comedy that makes you think. Ryan Gosling is the perfect Ken, he does everything in this movie and shines every time he shows up. Margo is a perfect Barbie and got a real sense of the relevance this is going to have.\\nReview_Url: /review/rw9201978/?ref_=tt_urv', metadata={'source': '/review/rw9201978/?ref_=tt_urv', 'row': 62}), Document(page_content='Review_Date: 10 August 2023\\nAuthor: arcelivez-753-983928\\nRating: 6\\nReview_Title: Honestly - no idea why people are so hyped up with this', metadata={'source': '/review/rw9201978/?ref_=tt_urv', 'row': 63}), Document(page_content=\"Review: Honestly I really have no idea why this movie seems to be so popular. Again honest - I went there just for Margot Robbie (I'm a married 34 year old male, and margot is one of my top 3 favorite actrices of all time, and arguably the most talented one from my list). And for that part it was totally ok. But the movie absolutely doesn't deserve an imdb rating above 5.6. The plot itself was very simple. Absolutely nothing particularly special in it. So if it is in fact getting rated so high just because of Margot alone, then why do her other movies don't get rated that well and get that much attention? Honestly I really don't understand and I think this movie is way too overhyped for no reason. And I have no idea why... For other movies that get hyped like that I do see the reasons why they're getting so hyped. So the movie is not awful, but it's rather average, if you're not going there specifically for Margot then I am pretty sure there will be multiple movies at your local\", metadata={'source': '/review/rw9201978/?ref_=tt_urv', 'row': 63}), Document(page_content=\"there specifically for Margot then I am pretty sure there will be multiple movies at your local cinema at the time you're reading this, which are way more worth watching than this one...\", metadata={'source': '/review/rw9201978/?ref_=tt_urv', 'row': 63}), Document(page_content='Review_Url: /review/rw9201978/?ref_=tt_urv', metadata={'source': '/review/rw9201978/?ref_=tt_urv', 'row': 63}), Document(page_content='Review_Date: 22 July 2023\\nAuthor: fernandoschiavi\\nRating: 5\\nReview_Title: \"Barbie\" is fun and visually beautiful, but unfortunately Barbie doll was dragged into the cultural war, used as a puppet by political militancy', metadata={'source': '/review/rw9201978/?ref_=tt_urv', 'row': 64}), Document(page_content='Review: Despite the strong commercial tone, it is still possible to perceive that we are watching a film by Greta Gerwig, director known for dramatic comedies that capture the complexity of femininity in an original way - although, in this case, it is almost inevitable to fall into some clichés. The undeniable feminist tone exists through the presence of this female director - in addition to Margot Robbie herself as a producer. \"Barbie\" has sharp and intelligent comments on the dynamics between men and women over time and also on how these social roles are seen and problematized today. And the film does it with a big heart: the story is genuinely fun, with a humor that walks between acidity and innocence, but also moves with the existential journey of its protagonists, reserving touching moments and provoking reflections, especially in its final stretch. Debauchery is the great ally of Gerwig and Baumbach to deal not only with sexism, but also with the \"corporate\" issue. It won\\'t be', metadata={'source': '/review/rw9201978/?ref_=tt_urv', 'row': 64}), Document(page_content='Gerwig and Baumbach to deal not only with sexism, but also with the \"corporate\" issue. It won\\'t be strange if you catch yourself thinking \"how did Mattel let this film see the light of day?\" Laughing at yourself, after all, seems to be a prerequisite for establishing communication with a young generation of consumers who associate their consumption habits with a critical eye on consumerism itself.', metadata={'source': '/review/rw9201978/?ref_=tt_urv', 'row': 64}), Document(page_content='Review_Url: /review/rw9201978/?ref_=tt_urv', metadata={'source': '/review/rw9201978/?ref_=tt_urv', 'row': 64}), Document(page_content='Review_Date: 23 July 2023\\nAuthor: anniebleasdale-97708\\nRating: 9\\nReview_Title: Wildly misunderstood by the poor reviewers.\\nReview: Unfortunately, most reviews that I\\'ve read here that score this film poorly explain so clearly that the reviewer did not understand the message of the film. It is not anti-men, it does not portray men as \"stupid\". Take a moment to think about how women have been portrayed in movies over the last century - oh yes, just as Ken is here! The movie exaggerates this, yes. That is the point. To clearly (and humourously) highlight the inequalities when the roles are reversed. Stop being offended by something that isn\\'t offensive and take a bit of time to actually think about the film that you have watched.\\nReview_Url: /review/rw9201978/?ref_=tt_urv', metadata={'source': '/review/rw9201978/?ref_=tt_urv', 'row': 65}), Document(page_content='Review_Date: 20 July 2023\\nAuthor: MatthewMichaelHoffman\\nRating: 8\\nReview_Title: Fails to meet expectations, but still fun!\\nReview: SCORE: 7.8/10\\nReview_Url: /review/rw9201978/?ref_=tt_urv', metadata={'source': '/review/rw9201978/?ref_=tt_urv', 'row': 66}), Document(page_content='Review_Date: 3 August 2023\\nAuthor: DanLawson146\\nRating: 7\\nReview_Title: Fun, but too on the nose at times\\nReview: POSITIVES:\\nReview_Url: /review/rw9201978/?ref_=tt_urv', metadata={'source': '/review/rw9201978/?ref_=tt_urv', 'row': 67}), Document(page_content=\"Review_Date: 20 July 2023\\nAuthor: PedroPires90\\nRating: 8\\nReview_Title: A triumph\\nReview: I appreciated it but wasn't a huge fan of Greta Gerwig's first two films. I knew absolutely nothing about Barbie except that it was a doll. The trailers didn't impress me. I slept less than an hour last night. I watched the movie alone surrounded by teenagers who cheered when the WB logo appeared in pink.\\nReview_Url: /review/rw9201978/?ref_=tt_urv\", metadata={'source': '/review/rw9201978/?ref_=tt_urv', 'row': 68}), Document(page_content='Review_Date: 6 August 2023\\nAuthor: pompeiirome\\nRating: 6\\nReview_Title: Ryan Gosling, a pure showman\\nReview: If forgotten, Ryan Gosling started off in the mickey mouse club. Important to remember because wow what a talented individual. Recent memory sees him leading roles that require a more stoic subdued approach, and it can be easy to miss his range. Barbie seeks to utilize all his acting muscles, and to a resounding success. He can sing, dance, act, and do comedy.\\nReview_Url: /review/rw9201978/?ref_=tt_urv', metadata={'source': '/review/rw9201978/?ref_=tt_urv', 'row': 69}), Document(page_content=\"Review_Date: 28 July 2023\\nAuthor: klastaitas\\nRating: 8\\nReview_Title: We're All Dolls\\nReview: Without consumerism, without belief, without plastic accessory and hope for a perfect day, where would Barbie find herself?\\nReview_Url: /review/rw9201978/?ref_=tt_urv\", metadata={'source': '/review/rw9201978/?ref_=tt_urv', 'row': 70}), Document(page_content=\"Review_Date: 20 July 2023\\nAuthor: FeastMode\\nRating: 7\\nReview_Title: I'll beach you off so hard\\nReview: I had no idea what to expect going into Barbie. I had no interest in seeing a movie about Barbie but was immediately sold on the highly talented Margot Robbie and the awesome Ryan Gosling. But I was still nervous that the comedy would be aimed strictly at women and would be difficult for a guy to enjoy.\\nReview_Url: /review/rw9201978/?ref_=tt_urv\", metadata={'source': '/review/rw9201978/?ref_=tt_urv', 'row': 71}), Document(page_content=\"Review_Date: 7 August 2023\\nAuthor: misscattik\\nRating: \\nReview_Title: No questions just answers\\nReview: The title of the review practically sums it all up. With the highest potential in style, aesthetics, cast and concept, the movie fails spectacularly when it comes to the deliverance of it's main idea. And it's not feminism that bothers, surely not, it's the artistic language in which the idea is told - harsh, manipulative, abusive, straightforward and unkind. Instead of aspiring the audience to think and reflect, it shoves the manifestations down your throat, and in monologues that are generally painfully awkward to watch.\\nReview_Url: /review/rw9201978/?ref_=tt_urv\", metadata={'source': '/review/rw9201978/?ref_=tt_urv', 'row': 72}), Document(page_content='Review_Date: 23 July 2023\\nAuthor: acdc_mp3\\nRating: 9\\nReview_Title: A really fun time\\nReview: Weeks ago I heard that there was going to be a Barbie movie coming out and my immediate first thought was \"Oh, God.\" I then forgot about it and then saw the trailer for it when we went to see the new Indiana Jones movie. I always enjoy seeing Margot Robbie when I can and Ryan Gosling looked like he was going to bring some humor to the movie, so when my wife asked if I wanted to see it, I said SURE! I\\'m glad I did.\\nReview_Url: /review/rw9201978/?ref_=tt_urv', metadata={'source': '/review/rw9201978/?ref_=tt_urv', 'row': 73}), Document(page_content='Review_Date: 20 July 2023\\nAuthor: moriumemoltre\\nRating: 6\\nReview_Title: Great acting but why this movie?\\nReview: I was really surprised about how much i liked Ryan Gosling in this. I had totally forgot about his comedic talent and timing. The movie works. There is definitely a moral message in this, even though I believe the majority of viewers will be too distracted by Margot Robbie and Ryan Goslings great performances and all of the comedy elements in this and the fact that the script is hardly worth being filmed. I feel like with a different script they could have created something truly great.\\nReview_Url: /review/rw9201978/?ref_=tt_urv', metadata={'source': '/review/rw9201978/?ref_=tt_urv', 'row': 74})]\n"
          ]
        }
      ]
    },
    {
      "cell_type": "code",
      "source": [
        "len(documents)"
      ],
      "metadata": {
        "id": "UvUcrQO_9EzP",
        "outputId": "5d1d7da4-e558-4a69-ae78-e4d4e56665f0",
        "colab": {
          "base_uri": "https://localhost:8080/"
        }
      },
      "execution_count": 25,
      "outputs": [
        {
          "output_type": "execute_result",
          "data": {
            "text/plain": [
              "106"
            ]
          },
          "metadata": {},
          "execution_count": 25
        }
      ]
    },
    {
      "cell_type": "code",
      "source": [
        "assert len(documents) == 106"
      ],
      "metadata": {
        "id": "6N4OXAhc3oIB"
      },
      "execution_count": 26,
      "outputs": []
    },
    {
      "cell_type": "markdown",
      "source": [
        "With our documents transformed into more manageable sizes, and with the correct metadata set-up, we're now ready to move on to creating our VectorStore!"
      ],
      "metadata": {
        "id": "ylT4jwmx3zCb"
      }
    },
    {
      "cell_type": "markdown",
      "source": [
        "### Task 2: Creating an \"Index\"\n",
        "\n",
        "The term \"index\" is used largely to mean: Structured documents parsed into a useful format for querying, retrieving, and use in the LLM application stack."
      ],
      "metadata": {
        "id": "9cB0L_CN38W5"
      }
    },
    {
      "cell_type": "markdown",
      "source": [
        "#### Selecting Our VectorStore\n",
        "\n",
        "There are a number of different VectorStores, and a number of different strengths and weaknesses to each.\n",
        "\n",
        "In this notebook, we will be keeping it very simple by leveraging [Facebook AI Similarity Search](https://ai.meta.com/tools/faiss/#:~:text=FAISS%20(Facebook%20AI%20Similarity%20Search,more%20scalable%20similarity%20search%20functions.), or `FAISS`."
      ],
      "metadata": {
        "id": "GycdG53N4f9Z"
      }
    },
    {
      "cell_type": "code",
      "source": [
        "!pip install -q -U faiss-cpu tiktoken"
      ],
      "metadata": {
        "colab": {
          "base_uri": "https://localhost:8080/"
        },
        "id": "T5o4vwSn4hfe",
        "outputId": "7ae40205-6213-448e-bc1c-77a5fb972882"
      },
      "execution_count": 27,
      "outputs": [
        {
          "output_type": "stream",
          "name": "stdout",
          "text": [
            "\u001b[2K     \u001b[90m━━━━━━━━━━━━━━━━━━━━━━━━━━━━━━━━━━━━━━━━\u001b[0m \u001b[32m17.6/17.6 MB\u001b[0m \u001b[31m60.7 MB/s\u001b[0m eta \u001b[36m0:00:00\u001b[0m\n",
            "\u001b[2K     \u001b[90m━━━━━━━━━━━━━━━━━━━━━━━━━━━━━━━━━━━━━━━━\u001b[0m \u001b[32m1.7/1.7 MB\u001b[0m \u001b[31m71.6 MB/s\u001b[0m eta \u001b[36m0:00:00\u001b[0m\n",
            "\u001b[?25h"
          ]
        }
      ]
    },
    {
      "cell_type": "markdown",
      "source": [
        "We're going to be setting up our VectorStore with the OpenAI embeddings model. While this embeddings model does not need to be consistent with the LLM selection, it does need to be consistent between embedding our index and embedding our queries over that index.\n",
        "\n",
        "While we don't have to worry too much about that in this example - it's something to keep in mind for more complex applications.\n",
        "\n",
        "We're going to leverage a [`CacheBackedEmbeddings`](https://python.langchain.com/docs/modules/data_connection/caching_embeddings )flow to prevent us from re-embedding similar queries over and over again.\n",
        "\n",
        "Not only will this save time, it will also save us precious embedding tokens, which will reduce the overall cost for our application.\n",
        "\n",
        ">#### Note:\n",
        ">The overall cost savings needs to be compared against the additional cost of storing the cached embeddings for a true cost/benefit analysis. If your users are submitting the same queries often, though, this pattern can be a massive reduction in cost."
      ],
      "metadata": {
        "id": "CGU96p5R54Xz"
      }
    },
    {
      "cell_type": "code",
      "source": [
        "from langchain.embeddings.openai import OpenAIEmbeddings\n",
        "from langchain.embeddings import CacheBackedEmbeddings\n",
        "from langchain.vectorstores import FAISS\n",
        "from langchain.storage import LocalFileStore\n",
        "\n",
        "store = LocalFileStore(\"./cache/\")\n",
        "\n",
        "core_embeddings_model = OpenAIEmbeddings()\n",
        "\n",
        "embedder = CacheBackedEmbeddings.from_bytes_store(\n",
        "    core_embeddings_model,\n",
        "    store,\n",
        "    namespace=core_embeddings_model.model\n",
        ")\n",
        "\n",
        "vector_store = FAISS.from_documents(documents, embedder)"
      ],
      "metadata": {
        "id": "AOzZWPU05WLr"
      },
      "execution_count": 28,
      "outputs": []
    },
    {
      "cell_type": "markdown",
      "source": [
        "Now that we've created the VectorStore, we can check that it's working by embedding a query and retrieving passages from our reviews that are close to it."
      ],
      "metadata": {
        "id": "IGHzcE5i6fOR"
      }
    },
    {
      "cell_type": "code",
      "source": [
        "query = \"How is Will Ferrell in this movie?\"\n",
        "embedding_vector = core_embeddings_model.embed_query(query)\n",
        "docs = vector_store.similarity_search_by_vector(embedding_vector, k = 4)\n",
        "\n",
        "for page in docs:\n",
        "  print(page.page_content)"
      ],
      "metadata": {
        "id": "JLOvFNxA6ZSH",
        "outputId": "e0daca9a-fcf1-49b6-c472-4d887c66da68",
        "colab": {
          "base_uri": "https://localhost:8080/"
        }
      },
      "execution_count": 29,
      "outputs": [
        {
          "output_type": "stream",
          "name": "stdout",
          "text": [
            "Review_Date: 23 July 2023\n",
            "Author: agjbull\n",
            "Rating: 6\n",
            "Review_Title: Just a little empty\n",
            "Review: I really wanted to enjoy this and I know that I am not the target audience but there were massive plot holes and no real flow. The film was very disjointed. Ryan Gosling as good as he is seemed to old to play Ken and Will Ferrell ruined every scene he was in. I just didn't get it, it seemed hollow artificial and hackneyed. A waste of some great talent. It was predictable without being reassuring and trying so hard to be woke in the most superficial way in that but trying to tick so many boxes it actually ticked none. Margo Robbie looks beautiful throughout, the costumes and the sets were amazing but the story was way too weak and didn't make much sense at all.\n",
            "Review_Url: /review/rw9201978/?ref_=tt_urv\n",
            "I can imagine that in the boardroom they went through a discussion like this: People are going to think this is a feel good movie so we need to give them something deeper but also lets make it absurd and fast paced so that we can finish the plot quickly and also jump on the \"not taking itself serious\" bandwagon and also market these dolls again in the age of smartphone kids. The only reason this movie gets at 5 from me is the humor, which sometimes becomes very meta and creative and Margot Robbie and Ryan Gosling have acted very well. Besides this, they could have just given us a simple feel good movie and I would have respected the creators more. Pass.\n",
            "Review_Url: /review/rw9201978/?ref_=tt_urv\n",
            "While i'm not so sure at first, the movie kept getting even more fun, entertaining, and definitely better, also surprisingly deal with a legit serious stuff, Barbie is a weirdly fun movie that fills with this very interesting concept, definitely the first time that's ever done, Greta Gerwig has created this whole new style of filmmaking specifically for Barbie, from the intentionally weird yet creative editing, some awkward and cringe scene, i found the comedy so funny instead of cringe, Barbie is one of the most original movie of the year and also one of the most original movie i've seen in a while, we all know Margot Robbie and Ryan Gosling is gonna carry the movie and they are, but Will Ferrell, Simu Liu, and the whole rest of the cast were also great and entertaining, the soundtrack was just great, except Nicki Minaj and Ice Spice \"Barbie World\" song that are just absolutely terrible, but Billie Eilish \"What Was I Made For?\" tune that kept haunting in the background until it\n",
            "Review: The movie was very funny and really enjoyable to laugh at with the full theatre. However, the messages of the movie were the problem. I was never really sure what I was supposed to take away, there was nothing about finding equality or love it was all about how every man cat falls every woman or women can't be anything. It was really silly because there was no accurate reflection of America at any single point except for Barbie getting called a Fascist for no reason by a 14 year old. I enjoyed how they called out women for hating women and how they really tried to preach empowerment and the ability to be anything, but at the same time there was so much resentment and they ended the movie by reinstating hate. The majority of the movie was hating men as much as possible. That's just whatever because what really matters is the story. Well it fell short on that mark and it was really disappointing. The pacing was horrible, the villain won and was pretty irrelevant in the long run,\n"
          ]
        }
      ]
    },
    {
      "cell_type": "markdown",
      "source": [
        "Let's see how much time the `CacheBackedEmbeddings` pattern saves us:"
      ],
      "metadata": {
        "id": "ix4fyOUS-fU-"
      }
    },
    {
      "cell_type": "code",
      "source": [
        "%%timeit -n 1 -r 1\n",
        "query = \"I really wanted to enjoy this and I know that I am not the target audience but there were massive plot holes and no real flow.\"\n",
        "embedding_vector = core_embeddings_model.embed_query(query)\n",
        "docs = vector_store.similarity_search_by_vector(embedding_vector, k = 4)"
      ],
      "metadata": {
        "colab": {
          "base_uri": "https://localhost:8080/"
        },
        "id": "eLXFKzu--m81",
        "outputId": "0527ee09-27f1-4d40-a53c-44563f5d357c"
      },
      "execution_count": 30,
      "outputs": [
        {
          "output_type": "stream",
          "name": "stdout",
          "text": [
            "667 ms ± 0 ns per loop (mean ± std. dev. of 1 run, 1 loop each)\n"
          ]
        }
      ]
    },
    {
      "cell_type": "code",
      "source": [
        "%%timeit\n",
        "query = \"I really wanted to enjoy this and I know that I am not the target audience but there were massive plot holes and no real flow.\"\n",
        "embedding_vector = core_embeddings_model.embed_query(query)\n",
        "docs = vector_store.similarity_search_by_vector(embedding_vector, k = 4)"
      ],
      "metadata": {
        "colab": {
          "base_uri": "https://localhost:8080/"
        },
        "id": "pCwtsJbc_KPd",
        "outputId": "d42e8924-ae12-4ac9-8fa5-829400005057"
      },
      "execution_count": 31,
      "outputs": [
        {
          "output_type": "stream",
          "name": "stdout",
          "text": [
            "459 ms ± 238 ms per loop (mean ± std. dev. of 7 runs, 1 loop each)\n"
          ]
        }
      ]
    },
    {
      "cell_type": "markdown",
      "source": [
        "As we can see, even over a significant number of runs - the cached query is significantly faster than the first instance of the query!\n",
        "\n",
        "With that, we're ready to move onto Task 3!"
      ],
      "metadata": {
        "id": "b4utL1EfARTm"
      }
    },
    {
      "cell_type": "markdown",
      "source": [
        "### Task 3: Building a Retrieval Chain\n",
        "\n",
        "In this task, we'll be making a Retrieval Chain which will allow us to ask semantic questions over our data.\n",
        "\n",
        "This part is rather abstracted away from us in LangChain and so it seems very powerful.\n",
        "\n",
        "Be sure to check the documentation, the source code, and other provided resources to build a deeper understanding of what's happening \"under the hood\"!"
      ],
      "metadata": {
        "id": "Po3kHNHGBp0j"
      }
    },
    {
      "cell_type": "markdown",
      "source": [
        "#### A Basic RetrievalQA Chain\n",
        "\n",
        "We're going to leverage `return_source_documents=True` to ensure we have proper sources for our reviews - should the end user want to verify the reviews themselves.\n",
        "\n",
        "Hallucinations [are](https://arxiv.org/abs/2202.03629) [a](https://arxiv.org/abs/2305.15852) [massive](https://arxiv.org/abs/2303.16104) [problem](https://arxiv.org/abs/2305.18248) in LLM applications.\n",
        "\n",
        "Though it has been tenuously shown that using Retrieval Augmentation [reduces hallucination in conversations](https://arxiv.org/pdf/2104.07567.pdf), one sure fire way to ensure your model is not hallucinating in a non-transparent way is to provide sources with your responses. This way the end-user can verify the output."
      ],
      "metadata": {
        "id": "i5Ux9XdzCDi9"
      }
    },
    {
      "cell_type": "markdown",
      "source": [
        "#### Our LLM\n",
        "\n",
        "In this notebook, we'll continue to leverage OpenAI's suite of models - this time we'll be using the `gpt-3.5-turbo` model to power our RetrievalQAWithSources chain.\n",
        "\n",
        "Check out the relevant documentation if you get stuck:\n",
        "- [`OpenAIChat()`](https://python.langchain.com/docs/modules/model_io/models/chat/)"
      ],
      "metadata": {
        "id": "O_waVo3AEk71"
      }
    },
    {
      "cell_type": "code",
      "source": [
        "from langchain.llms.openai import OpenAIChat\n",
        "\n",
        "llm = OpenAIChat(model=\"gpt-3.5-turbo\")"
      ],
      "metadata": {
        "id": "QfglvbBtExPR"
      },
      "execution_count": 32,
      "outputs": []
    },
    {
      "cell_type": "markdown",
      "source": [
        "Now we can set up our chain.\n",
        "\n",
        "We'll need to make our VectorStore a retriever in order to be able to leverage it in our chain - let's check out the `as_retriever()` method.\n",
        "\n",
        "Relevant Documentation:\n",
        "- [`FAISS`](https://api.python.langchain.com/en/latest/vectorstores/langchain.vectorstores.faiss.FAISS.html#langchain.vectorstores.faiss.FAISS.as_retriever)"
      ],
      "metadata": {
        "id": "w35ZkVEoE8II"
      }
    },
    {
      "cell_type": "code",
      "source": [
        "retriever = vector_store.as_retriever()"
      ],
      "metadata": {
        "id": "T8TWJMH8F_w7"
      },
      "execution_count": 33,
      "outputs": []
    },
    {
      "cell_type": "code",
      "source": [
        "from langchain.chains import RetrievalQA\n",
        "from langchain.callbacks import StdOutCallbackHandler\n",
        "\n",
        "handler = StdOutCallbackHandler()\n",
        "\n",
        "qa_with_sources_chain = RetrievalQA.from_chain_type(\n",
        "    llm=llm,\n",
        "    retriever=retriever,\n",
        "    callbacks=[handler],\n",
        "    return_source_documents=True\n",
        ")"
      ],
      "metadata": {
        "id": "QeD8R6huFIf6"
      },
      "execution_count": 34,
      "outputs": []
    },
    {
      "cell_type": "code",
      "source": [
        "qa_with_sources_chain({\"query\" : \"How was Will Ferrell in this movie?\"})"
      ],
      "metadata": {
        "colab": {
          "base_uri": "https://localhost:8080/"
        },
        "id": "oqPaII9nF72R",
        "outputId": "bd9b99cc-1104-410f-f2b9-0adac361d5d1"
      },
      "execution_count": 35,
      "outputs": [
        {
          "output_type": "stream",
          "name": "stdout",
          "text": [
            "\n",
            "\n",
            "\u001b[1m> Entering new RetrievalQA chain...\u001b[0m\n",
            "\n",
            "\u001b[1m> Finished chain.\u001b[0m\n"
          ]
        },
        {
          "output_type": "execute_result",
          "data": {
            "text/plain": [
              "{'query': 'How was Will Ferrell in this movie?',\n",
              " 'result': 'Will Ferrell was described as ruining every scene he was in and being disappointing in the movie.',\n",
              " 'source_documents': [Document(page_content=\"Review_Date: 23 July 2023\\nAuthor: agjbull\\nRating: 6\\nReview_Title: Just a little empty\\nReview: I really wanted to enjoy this and I know that I am not the target audience but there were massive plot holes and no real flow. The film was very disjointed. Ryan Gosling as good as he is seemed to old to play Ken and Will Ferrell ruined every scene he was in. I just didn't get it, it seemed hollow artificial and hackneyed. A waste of some great talent. It was predictable without being reassuring and trying so hard to be woke in the most superficial way in that but trying to tick so many boxes it actually ticked none. Margo Robbie looks beautiful throughout, the costumes and the sets were amazing but the story was way too weak and didn't make much sense at all.\\nReview_Url: /review/rw9201978/?ref_=tt_urv\", metadata={'source': '/review/rw9201978/?ref_=tt_urv', 'row': 61}),\n",
              "  Document(page_content=\"Review: The movie was very funny and really enjoyable to laugh at with the full theatre. However, the messages of the movie were the problem. I was never really sure what I was supposed to take away, there was nothing about finding equality or love it was all about how every man cat falls every woman or women can't be anything. It was really silly because there was no accurate reflection of America at any single point except for Barbie getting called a Fascist for no reason by a 14 year old. I enjoyed how they called out women for hating women and how they really tried to preach empowerment and the ability to be anything, but at the same time there was so much resentment and they ended the movie by reinstating hate. The majority of the movie was hating men as much as possible. That's just whatever because what really matters is the story. Well it fell short on that mark and it was really disappointing. The pacing was horrible, the villain won and was pretty irrelevant in the long run,\", metadata={'source': '/review/rw9201978/?ref_=tt_urv', 'row': 19}),\n",
              "  Document(page_content='I can imagine that in the boardroom they went through a discussion like this: People are going to think this is a feel good movie so we need to give them something deeper but also lets make it absurd and fast paced so that we can finish the plot quickly and also jump on the \"not taking itself serious\" bandwagon and also market these dolls again in the age of smartphone kids. The only reason this movie gets at 5 from me is the humor, which sometimes becomes very meta and creative and Margot Robbie and Ryan Gosling have acted very well. Besides this, they could have just given us a simple feel good movie and I would have respected the creators more. Pass.\\nReview_Url: /review/rw9201978/?ref_=tt_urv', metadata={'source': '/review/rw9201978/?ref_=tt_urv', 'row': 32}),\n",
              "  Document(page_content='While i\\'m not so sure at first, the movie kept getting even more fun, entertaining, and definitely better, also surprisingly deal with a legit serious stuff, Barbie is a weirdly fun movie that fills with this very interesting concept, definitely the first time that\\'s ever done, Greta Gerwig has created this whole new style of filmmaking specifically for Barbie, from the intentionally weird yet creative editing, some awkward and cringe scene, i found the comedy so funny instead of cringe, Barbie is one of the most original movie of the year and also one of the most original movie i\\'ve seen in a while, we all know Margot Robbie and Ryan Gosling is gonna carry the movie and they are, but Will Ferrell, Simu Liu, and the whole rest of the cast were also great and entertaining, the soundtrack was just great, except Nicki Minaj and Ice Spice \"Barbie World\" song that are just absolutely terrible, but Billie Eilish \"What Was I Made For?\" tune that kept haunting in the background until it', metadata={'source': '/review/rw9201978/?ref_=tt_urv', 'row': 10})]}"
            ]
          },
          "metadata": {},
          "execution_count": 35
        }
      ]
    },
    {
      "cell_type": "code",
      "source": [
        "qa_with_sources_chain({\"query\" : \"Do reviewers consider this movie Kenough?\"})"
      ],
      "metadata": {
        "colab": {
          "base_uri": "https://localhost:8080/"
        },
        "id": "47Ov7N22MxOS",
        "outputId": "c4607738-8eff-413e-d22c-419419c639ab"
      },
      "execution_count": 36,
      "outputs": [
        {
          "output_type": "stream",
          "name": "stdout",
          "text": [
            "\n",
            "\n",
            "\u001b[1m> Entering new RetrievalQA chain...\u001b[0m\n",
            "\n",
            "\u001b[1m> Finished chain.\u001b[0m\n"
          ]
        },
        {
          "output_type": "execute_result",
          "data": {
            "text/plain": [
              "{'query': 'Do reviewers consider this movie Kenough?',\n",
              " 'result': 'Yes, based on the given reviews, reviewers consider this movie \"Kenough.\"',\n",
              " 'source_documents': [Document(page_content='Review_Date: 23 July 2023\\nAuthor: eoinageary\\nRating: 8\\nReview_Title: I am Kenough\\nReview: So I went into the movie with little to no expectations and I was pleasantly impressed with the movie overall.\\nReview_Url: /review/rw9201978/?ref_=tt_urv', metadata={'source': '/review/rw9201978/?ref_=tt_urv', 'row': 37}),\n",
              "  Document(page_content='Review_Date: 20 July 2023\\nAuthor: Genti25\\nRating: 8\\nReview_Title: You are Kenough\\nReview: This movie is so much fun. It starts off really strong although the story does move away from \"Barbieland\" sooner than I would have liked. Nonetheless, it regains its footing with the final act in particular and I could not stop laughing at Ryan Gosling\\'s portrayal of Ken. That song will forever be stuck in my head.\\nReview_Url: /review/rw9201978/?ref_=tt_urv', metadata={'source': '/review/rw9201978/?ref_=tt_urv', 'row': 20}),\n",
              "  Document(page_content='Review_Date: 23 July 2023\\nAuthor: anniebleasdale-97708\\nRating: 9\\nReview_Title: Wildly misunderstood by the poor reviewers.\\nReview: Unfortunately, most reviews that I\\'ve read here that score this film poorly explain so clearly that the reviewer did not understand the message of the film. It is not anti-men, it does not portray men as \"stupid\". Take a moment to think about how women have been portrayed in movies over the last century - oh yes, just as Ken is here! The movie exaggerates this, yes. That is the point. To clearly (and humourously) highlight the inequalities when the roles are reversed. Stop being offended by something that isn\\'t offensive and take a bit of time to actually think about the film that you have watched.\\nReview_Url: /review/rw9201978/?ref_=tt_urv', metadata={'source': '/review/rw9201978/?ref_=tt_urv', 'row': 65}),\n",
              "  Document(page_content=\"Review_Date: 23 July 2023\\nAuthor: agjbull\\nRating: 6\\nReview_Title: Just a little empty\\nReview: I really wanted to enjoy this and I know that I am not the target audience but there were massive plot holes and no real flow. The film was very disjointed. Ryan Gosling as good as he is seemed to old to play Ken and Will Ferrell ruined every scene he was in. I just didn't get it, it seemed hollow artificial and hackneyed. A waste of some great talent. It was predictable without being reassuring and trying so hard to be woke in the most superficial way in that but trying to tick so many boxes it actually ticked none. Margo Robbie looks beautiful throughout, the costumes and the sets were amazing but the story was way too weak and didn't make much sense at all.\\nReview_Url: /review/rw9201978/?ref_=tt_urv\", metadata={'source': '/review/rw9201978/?ref_=tt_urv', 'row': 61})]}"
            ]
          },
          "metadata": {},
          "execution_count": 36
        }
      ]
    },
    {
      "cell_type": "markdown",
      "source": [
        "And with that, we have our Barbie Review RAQA Application built!"
      ],
      "metadata": {
        "id": "QQVCkoy3H5Rw"
      }
    },
    {
      "cell_type": "markdown",
      "source": [
        "### Conclusion\n",
        "\n",
        "Now that we have our application ready, let's deploy it to a Hugging Face space with their Docker spaces.\n",
        "\n",
        "You can find the next part [here](https://ai-maker-space-barbie-raqa-application-chainlit-demo.hf.space/readme)!\n",
        "\n",
        "You've built, now it's time to ship! 🚢"
      ],
      "metadata": {
        "id": "KqIHum95dtns"
      }
    },
    {
      "cell_type": "code",
      "source": [],
      "metadata": {
        "id": "IASA1yaad6ml"
      },
      "execution_count": null,
      "outputs": []
    }
  ]
}